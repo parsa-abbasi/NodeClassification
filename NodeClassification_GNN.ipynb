{
  "cells": [
    {
      "cell_type": "markdown",
      "metadata": {
        "id": "view-in-github",
        "colab_type": "text"
      },
      "source": [
        "<a href=\"https://colab.research.google.com/github/parsa-abbasi/NodeClassification/blob/main/NodeClassification_GNN.ipynb\" target=\"_parent\"><img src=\"https://colab.research.google.com/assets/colab-badge.svg\" alt=\"Open In Colab\"/></a>"
      ]
    },
    {
      "cell_type": "markdown",
      "metadata": {
        "id": "MWkKZGZoI3eH"
      },
      "source": [
        "# Node Classification with Graph Neural Networks\n",
        "\n",
        "- **Last updated:** April 2024\n",
        "- **Repository:** [https://github.com/parsa-abbasi/NodeClassification](https://github.com/parsa-abbasi/NodeClassification)\n",
        "\n",
        "This notebook contains all the codes within this repository and is meant to provide a step-by-step explanation of the process of creating a Graph Neural Network (GNN) for node classification.\n",
        "\n",
        "## Graph Neural Networks (GNNs)\n",
        "\n",
        "The general idea behind GNNs is to propagate information from the nodes' neighbors to the node itself. This is done by aggregating the information from the neighbors and updating the node's representation. This process is repeated for a number of layers, and the final representation of the node is used to do a prediction (in this case, the node's class). We can summarize the process as follows:\n",
        "\n",
        "1. **Initialization**: Initialize the node's representation ($h_v^{(0)}$) with some information about the node (e.g., its features).\n",
        "2. **Aggregation**: Aggregate the information from the node's neighbors ($\\mathcal{N}_v$).\n",
        "3. **Update**: Update the node's representation based on the aggregated information and the previous representation ($h_v^{(l-1)}$).\n",
        "4. **Decoder**: Use the final representation of the node to do a prediction.\n",
        "\n",
        "The aggregation and update steps are usually done using neural networks, which are trained to learn the best way to aggregate and update the information. The general formula for the update step is:\n",
        "\n",
        "$$ h_v^{(l)} = \\text{UPDATE}(h_v^{(l-1)}, \\text{AGGREGATE}(\\{h_u^{(l-1)}: u \\in \\mathcal{N}_v\\})) $$\n",
        "\n",
        "The whole topic of GNNs is how to define the $\\text{AGGREGATE}$ and $\\text{UPDATE}$ functions. There are many ways to do this, and the choice of these functions can greatly impact the performance of the model. We will use two fundamental types of GNN architectures in this notebook: **Graph Convolutional Network (GCN)** and **Graph Attention Network (GAT)**.\n",
        "\n",
        "## Pytorch Geometric (PyG)\n",
        "\n",
        "Working with graph data and implementing GNNs from scratch can be quite challenging. Fortunately, there are libraries that can help us with this task. [Pytorch Geometric (PyG)](https://pytorch-geometric.readthedocs.io/en/latest/index.html) is one of the most popular libraries in this field. It provides a set of utilities to preprocess and handle graph data, as well as a set of pre-implemented GNN layers and models. We will use PyG to implement the GNNs in this notebook.\n",
        "\n",
        "First of all, make sure you have PyG installed. You can install it using the following command:"
      ]
    },
    {
      "cell_type": "code",
      "execution_count": 1,
      "metadata": {
        "colab": {
          "base_uri": "https://localhost:8080/"
        },
        "id": "9tMgWXAmgi5j",
        "outputId": "c5d1f98c-90a2-465e-fabf-200792851f25"
      },
      "outputs": [
        {
          "output_type": "stream",
          "name": "stdout",
          "text": [
            "Collecting torch_geometric\n",
            "  Downloading torch_geometric-2.5.2-py3-none-any.whl (1.1 MB)\n",
            "\u001b[?25l     \u001b[90m━━━━━━━━━━━━━━━━━━━━━━━━━━━━━━━━━━━━━━━━\u001b[0m \u001b[32m0.0/1.1 MB\u001b[0m \u001b[31m?\u001b[0m eta \u001b[36m-:--:--\u001b[0m\r\u001b[2K     \u001b[91m━━━━━━\u001b[0m\u001b[90m╺\u001b[0m\u001b[90m━━━━━━━━━━━━━━━━━━━━━━━━━━━━━━━━━\u001b[0m \u001b[32m0.2/1.1 MB\u001b[0m \u001b[31m5.4 MB/s\u001b[0m eta \u001b[36m0:00:01\u001b[0m\r\u001b[2K     \u001b[91m━━━━━━━━━━━━━━━━━━━━\u001b[0m\u001b[91m╸\u001b[0m\u001b[90m━━━━━━━━━━━━━━━━━━━\u001b[0m \u001b[32m0.6/1.1 MB\u001b[0m \u001b[31m8.7 MB/s\u001b[0m eta \u001b[36m0:00:01\u001b[0m\r\u001b[2K     \u001b[91m━━━━━━━━━━━━━━━━━━━━━━━━━━━━━━━━━━━━━━━\u001b[0m\u001b[91m╸\u001b[0m \u001b[32m1.1/1.1 MB\u001b[0m \u001b[31m10.8 MB/s\u001b[0m eta \u001b[36m0:00:01\u001b[0m\r\u001b[2K     \u001b[90m━━━━━━━━━━━━━━━━━━━━━━━━━━━━━━━━━━━━━━━━\u001b[0m \u001b[32m1.1/1.1 MB\u001b[0m \u001b[31m9.1 MB/s\u001b[0m eta \u001b[36m0:00:00\u001b[0m\n",
            "\u001b[?25hRequirement already satisfied: tqdm in /usr/local/lib/python3.10/dist-packages (from torch_geometric) (4.66.2)\n",
            "Requirement already satisfied: numpy in /usr/local/lib/python3.10/dist-packages (from torch_geometric) (1.25.2)\n",
            "Requirement already satisfied: scipy in /usr/local/lib/python3.10/dist-packages (from torch_geometric) (1.11.4)\n",
            "Requirement already satisfied: fsspec in /usr/local/lib/python3.10/dist-packages (from torch_geometric) (2023.6.0)\n",
            "Requirement already satisfied: jinja2 in /usr/local/lib/python3.10/dist-packages (from torch_geometric) (3.1.3)\n",
            "Requirement already satisfied: aiohttp in /usr/local/lib/python3.10/dist-packages (from torch_geometric) (3.9.3)\n",
            "Requirement already satisfied: requests in /usr/local/lib/python3.10/dist-packages (from torch_geometric) (2.31.0)\n",
            "Requirement already satisfied: pyparsing in /usr/local/lib/python3.10/dist-packages (from torch_geometric) (3.1.2)\n",
            "Requirement already satisfied: scikit-learn in /usr/local/lib/python3.10/dist-packages (from torch_geometric) (1.2.2)\n",
            "Requirement already satisfied: psutil>=5.8.0 in /usr/local/lib/python3.10/dist-packages (from torch_geometric) (5.9.5)\n",
            "Requirement already satisfied: aiosignal>=1.1.2 in /usr/local/lib/python3.10/dist-packages (from aiohttp->torch_geometric) (1.3.1)\n",
            "Requirement already satisfied: attrs>=17.3.0 in /usr/local/lib/python3.10/dist-packages (from aiohttp->torch_geometric) (23.2.0)\n",
            "Requirement already satisfied: frozenlist>=1.1.1 in /usr/local/lib/python3.10/dist-packages (from aiohttp->torch_geometric) (1.4.1)\n",
            "Requirement already satisfied: multidict<7.0,>=4.5 in /usr/local/lib/python3.10/dist-packages (from aiohttp->torch_geometric) (6.0.5)\n",
            "Requirement already satisfied: yarl<2.0,>=1.0 in /usr/local/lib/python3.10/dist-packages (from aiohttp->torch_geometric) (1.9.4)\n",
            "Requirement already satisfied: async-timeout<5.0,>=4.0 in /usr/local/lib/python3.10/dist-packages (from aiohttp->torch_geometric) (4.0.3)\n",
            "Requirement already satisfied: MarkupSafe>=2.0 in /usr/local/lib/python3.10/dist-packages (from jinja2->torch_geometric) (2.1.5)\n",
            "Requirement already satisfied: charset-normalizer<4,>=2 in /usr/local/lib/python3.10/dist-packages (from requests->torch_geometric) (3.3.2)\n",
            "Requirement already satisfied: idna<4,>=2.5 in /usr/local/lib/python3.10/dist-packages (from requests->torch_geometric) (3.6)\n",
            "Requirement already satisfied: urllib3<3,>=1.21.1 in /usr/local/lib/python3.10/dist-packages (from requests->torch_geometric) (2.0.7)\n",
            "Requirement already satisfied: certifi>=2017.4.17 in /usr/local/lib/python3.10/dist-packages (from requests->torch_geometric) (2024.2.2)\n",
            "Requirement already satisfied: joblib>=1.1.1 in /usr/local/lib/python3.10/dist-packages (from scikit-learn->torch_geometric) (1.4.0)\n",
            "Requirement already satisfied: threadpoolctl>=2.0.0 in /usr/local/lib/python3.10/dist-packages (from scikit-learn->torch_geometric) (3.4.0)\n",
            "Installing collected packages: torch_geometric\n",
            "Successfully installed torch_geometric-2.5.2\n"
          ]
        }
      ],
      "source": [
        "!pip install torch_geometric"
      ]
    },
    {
      "cell_type": "markdown",
      "metadata": {
        "id": "UVcOv7aTI3eP"
      },
      "source": [
        "## Preparation\n",
        "\n",
        "### Reproducibility\n",
        "\n",
        "We will set the seed for any part of this notebook that involves randomness to ensure results reproducibility."
      ]
    },
    {
      "cell_type": "code",
      "execution_count": 2,
      "metadata": {
        "id": "c2IhYYZEI3eQ"
      },
      "outputs": [],
      "source": [
        "import random\n",
        "import numpy as np\n",
        "import os\n",
        "import torch\n",
        "\n",
        "def seed_everything(seed):\n",
        "    random.seed(seed)\n",
        "    np.random.seed(seed)\n",
        "    os.environ[\"PYTHONHASHSEED\"] = str(seed)\n",
        "    torch.manual_seed(seed)\n",
        "    torch.cuda.manual_seed(seed)\n",
        "    torch.backends.cudnn.deterministic = True\n",
        "    torch.backends.cudnn.benchmark = False\n",
        "\n",
        "SEED = 42\n",
        "seed_everything(SEED)"
      ]
    },
    {
      "cell_type": "markdown",
      "metadata": {
        "id": "HuuI-_CDI3eQ"
      },
      "source": [
        "### Device\n",
        "\n",
        "We will also set the device to be used in this notebook. If a GPU is available, we will use it; otherwise, we will use the CPU."
      ]
    },
    {
      "cell_type": "code",
      "execution_count": 3,
      "metadata": {
        "id": "kw3fSczsI3eR"
      },
      "outputs": [],
      "source": [
        "if torch.cuda.is_available():\n",
        "    device = torch.device('cuda')\n",
        "elif hasattr(torch.backends, 'mps') and torch.backends.mps.is_available():\n",
        "    device = torch.device('mps')\n",
        "else:\n",
        "    device = torch.device('cpu')"
      ]
    },
    {
      "cell_type": "markdown",
      "metadata": {
        "id": "rhujB2ZbI3eR"
      },
      "source": [
        "### Dataset\n",
        "\n",
        "We will use the **Cora** dataset for this notebook. The Cora dataset is a standard citation network dataset used for node classification tasks.\n",
        "The Cora dataset consists of `2708` scientific publications classified into one of `7` classes:\n",
        "\n",
        "- `Case_Based`\n",
        "- `Genetic_Algorithms`\n",
        "- `Neural_Networks`\n",
        "- `Probabilistic_Methods`\n",
        "- `Reinforcement_Learning`\n",
        "- `Rule_Learning`\n",
        "- `Theory`\n",
        "\n",
        "Each publication in the dataset is described by a `0/1`-valued word vector indicating the absence/presence of the corresponding word from the dictionary. The dictionary consists of `1433` unique words. The citation network consists of `5429` links.\n",
        "\n",
        "You can download the dataset from [here](https://linqs-data.soe.ucsc.edu/public/lbc/cora.tgz). However, the dataset is already available in the `data` directory of the repository.\n",
        "\n",
        "**Note 1:** I assume that you are running this notebook on the [Google Colab](https://colab.research.google.com/) platform. Therefore, I wrote all the codes in a way that you just need to run the cells in order. All of the necessary data and libraries will be downloaded and installed automatically.\n",
        "\n",
        "**Note 2:** We could also use `Planetoid` class from PyG to load the Cora dataset. However, I will load the dataset manually to show you how to work with custom datasets."
      ]
    },
    {
      "cell_type": "code",
      "execution_count": 4,
      "metadata": {
        "colab": {
          "base_uri": "https://localhost:8080/"
        },
        "id": "bSH3ZdWbdsh-",
        "outputId": "ef254f03-8f03-423f-9358-d04314026905"
      },
      "outputs": [
        {
          "output_type": "stream",
          "name": "stdout",
          "text": [
            "--2024-04-18 12:18:00--  https://linqs-data.soe.ucsc.edu/public/lbc/cora.tgz\n",
            "Resolving linqs-data.soe.ucsc.edu (linqs-data.soe.ucsc.edu)... 128.114.47.74\n",
            "Connecting to linqs-data.soe.ucsc.edu (linqs-data.soe.ucsc.edu)|128.114.47.74|:443... connected.\n",
            "HTTP request sent, awaiting response... 200 OK\n",
            "Length: 168052 (164K) [application/x-gzip]\n",
            "Saving to: ‘cora.tgz’\n",
            "\n",
            "cora.tgz            100%[===================>] 164.11K  --.-KB/s    in 0.08s   \n",
            "\n",
            "2024-04-18 12:18:00 (2.11 MB/s) - ‘cora.tgz’ saved [168052/168052]\n",
            "\n"
          ]
        }
      ],
      "source": [
        "!wget https://linqs-data.soe.ucsc.edu/public/lbc/cora.tgz"
      ]
    },
    {
      "cell_type": "code",
      "execution_count": 5,
      "metadata": {
        "colab": {
          "base_uri": "https://localhost:8080/"
        },
        "id": "ZLh8k63Zeshv",
        "outputId": "5135a70b-0975-474a-fbba-3fe40ee33250"
      },
      "outputs": [
        {
          "output_type": "stream",
          "name": "stdout",
          "text": [
            "cora/\n",
            "cora/README\n",
            "cora/cora.cites\n",
            "cora/cora.content\n"
          ]
        }
      ],
      "source": [
        "!tar -xzvf cora.tgz"
      ]
    },
    {
      "cell_type": "markdown",
      "metadata": {
        "id": "X4ZtijEYI3eT"
      },
      "source": [
        "### Graph Loading\n",
        "\n",
        "The Cora dataset is stored in two files: `cora.content` and `cora.cites`. The `cora.content` file contains the node features and labels, and the `cora.cites` file contains the citation links between the nodes. The format of the files is as follows:\n",
        "\n",
        "- `cora.content`: `<node_id> <feature_0> <feature_1> ... <feature_n> <label>`\n",
        "- `cora.cites`: `<source_node_id> <target_node_id>`\n",
        "\n",
        "I implemented a `GraphLoader` class which can load graph data from files in the above format. The code for this class is also available in the `graph_loader.py` file in the `utils` directory of the repository.\n",
        "\n",
        "\n",
        "The script will load the graph and return the following:\n",
        "\n",
        "| Variable | Description |\n",
        "| --- | --- |\n",
        "| `features` | a dictionary where the key is the node ID and the value is the features of the node |\n",
        "| `labels` | a dictionary where the key is the node ID and the value is the label of the node |\n",
        "| `edge_index` | a list of tuples where each tuple represents an edge between two nodes |\n",
        "\n",
        "It also provides the following methods:\n",
        "\n",
        "| Function | Description |\n",
        "| --- | --- |\n",
        "| `load_data()` | Loads the graph from the given files (it will be called automatically when the object is created) |\n",
        "| `get_data()` | Returns the loaded data (features, labels, and edge_index) |\n",
        "| `print_info()` | Prints the information about the loaded graph (number of nodes, edges, features, and labels) |\n",
        "| `to_undirected()` | Converts the graph to an undirected graph by adding the inverse edges |"
      ]
    },
    {
      "cell_type": "code",
      "execution_count": 6,
      "metadata": {
        "id": "1_NsbZqVfipb"
      },
      "outputs": [],
      "source": [
        "class GraphLoader:\n",
        "    '''\n",
        "    `GraphLoader`: A class to load the raw graph data from the files\n",
        "        - `file_nodes`: The path to the file containing the nodes data (e.g., cora.content)\n",
        "            - The format of each line is <node_id> <feature_0> <feature_1> ... <feature_n> <label>\n",
        "        - `file_edges`: The path to the file containing the edges data (e.g., cora.cites)\n",
        "            - The format of each line is <ID of source node> <ID of target node>\n",
        "    '''\n",
        "\n",
        "    def __init__(self, file_nodes: str='', file_edges: str=''):\n",
        "\n",
        "        # if files paths are not provided, use the default ones which is the cora dataset\n",
        "        if file_nodes == '' or file_edges == '':\n",
        "            data_dir = os.path.join(os.path.dirname(\"__file__\"), 'data')\n",
        "            file_nodes = os.path.join(data_dir, 'cora.content')\n",
        "            file_edges = os.path.join(data_dir, 'cora.cites')\n",
        "        self.file_nodes = file_nodes\n",
        "        self.file_edges = file_edges\n",
        "\n",
        "        # key: node ID, value: feature vector\n",
        "        self.features = {}\n",
        "        # key: node ID, value: label\n",
        "        self.labels = {}\n",
        "        # List of edges in the graph\n",
        "        self.edge_index = []\n",
        "\n",
        "        self.num_nodes = 0\n",
        "        self.num_edges = 0\n",
        "        self.num_classes = 0\n",
        "        self.num_features = 0\n",
        "\n",
        "        # Load the data from the files\n",
        "        self.load_data()\n",
        "\n",
        "    def load_data(self):\n",
        "\n",
        "        # Load the features and labels of the nodes\n",
        "        with open(self.file_nodes, 'r') as f:\n",
        "            for line in f:\n",
        "                line = line.strip().split()\n",
        "                node = int(line[0])\n",
        "                self.features[node] = list(map(int, line[1:-1]))\n",
        "                self.labels[node] = line[-1]\n",
        "\n",
        "        # Load the edges of the graph\n",
        "        with open(self.file_edges, 'r') as f:\n",
        "            for line in f:\n",
        "                line = line.strip().split()\n",
        "                self.edge_index.append([int(line[0]), int(line[1])])\n",
        "\n",
        "        self.num_nodes = len(self.features)\n",
        "        self.num_edges = len(self.edge_index)\n",
        "        self.num_classes = len(set(self.labels.values()))\n",
        "        self.num_features = len(self.features[list(self.features.keys())[0]])\n",
        "\n",
        "    def get_data(self):\n",
        "        return self.features, self.labels, self.edge_index\n",
        "\n",
        "    def print_info(self):\n",
        "        print('# Nodes:', self.num_nodes)\n",
        "        print('# Edges:', self.num_edges)\n",
        "        print('# Classes:', self.num_classes)\n",
        "        print('# Features:', self.num_features)\n",
        "\n",
        "    def to_undirected(self):\n",
        "        '''\n",
        "        Convert the graph to an undirected graph by adding the inverse edges (if not already exist)\n",
        "        '''\n",
        "\n",
        "        edge_index = self.edge_index\n",
        "        for edge in self.edge_index:\n",
        "            if [edge[1], edge[0]] not in edge_index:\n",
        "                edge_index.append([edge[1], edge[0]])\n",
        "        self.edge_index = edge_index\n",
        "        self.num_edges = len(edge_index)"
      ]
    },
    {
      "cell_type": "code",
      "execution_count": 7,
      "metadata": {
        "colab": {
          "base_uri": "https://localhost:8080/"
        },
        "id": "2A1C2JcLfvd4",
        "outputId": "1d92ca20-14de-4ba3-aeb4-2bf7e6c0829b"
      },
      "outputs": [
        {
          "output_type": "stream",
          "name": "stdout",
          "text": [
            "# Nodes: 2708\n",
            "# Edges: 5429\n",
            "# Classes: 7\n",
            "# Features: 1433\n"
          ]
        }
      ],
      "source": [
        "# from utils.graph_loader import GraphLoader\n",
        "\n",
        "loader = GraphLoader(file_nodes='./cora/cora.content',\n",
        "                     file_edges='./cora/cora.cites')\n",
        "features, labels, edge_index = loader.get_data()\n",
        "loader.print_info()"
      ]
    },
    {
      "cell_type": "markdown",
      "metadata": {
        "id": "n73ewSmDI3eU"
      },
      "source": [
        "The Cora graph is originally a directed graph, but as you can see in many publications, it is treated as an undirected graph. Therefore, we will convert the graph to an undirected graph. We can use the `to_undirected()` method of the `GraphLoader` class to do this. The method will add the inverse edges to the graph.\n",
        "\n",
        "**Note:** The number of edges will not be exactly doubled after converting the graph to an undirected graph because the original graph may contain multiple edges between the same pair of nodes."
      ]
    },
    {
      "cell_type": "code",
      "execution_count": 8,
      "metadata": {
        "colab": {
          "base_uri": "https://localhost:8080/"
        },
        "id": "S7S5MhIIrsa1",
        "outputId": "77a4954d-9322-418c-e6de-3beeafb5dabc"
      },
      "outputs": [
        {
          "output_type": "stream",
          "name": "stdout",
          "text": [
            "# Nodes: 2708\n",
            "# Edges: 10556\n",
            "# Classes: 7\n",
            "# Features: 1433\n"
          ]
        }
      ],
      "source": [
        "loader.to_undirected()\n",
        "features, labels, edge_index = loader.get_data()\n",
        "loader.print_info()"
      ]
    },
    {
      "cell_type": "markdown",
      "metadata": {
        "id": "UKfx5yBzI3eV"
      },
      "source": [
        "### ID Mapping\n",
        "\n",
        "The node IDs in the Cora dataset are not sequential. The graph contains `2708` nodes, but the node IDs are not in the range `[0, 2707]` (e.g., 31336, 1061127, etc.). We need to map the node IDs to sequential IDs starting from `0`. However, we need to keep the original IDs because we need it at the prediction step to produce the output in the original format.\n",
        "\n",
        "First of all, we will make a `pd.DataFrame` from the node IDs and their labels. Then, we will use the corresponding index of the `DataFrame` as the new ID for the nodes. We will also create two dictionaries to map the original IDs to the new IDs and vice versa."
      ]
    },
    {
      "cell_type": "code",
      "execution_count": 9,
      "metadata": {
        "colab": {
          "base_uri": "https://localhost:8080/",
          "height": 424
        },
        "id": "1OWGo_IISlvT",
        "outputId": "8a031137-0c21-4176-bf87-f353541ab9c4"
      },
      "outputs": [
        {
          "output_type": "execute_result",
          "data": {
            "text/plain": [
              "      Node ID                   Label\n",
              "0       31336         Neural_Networks\n",
              "1     1061127           Rule_Learning\n",
              "2     1106406  Reinforcement_Learning\n",
              "3       13195  Reinforcement_Learning\n",
              "4       37879   Probabilistic_Methods\n",
              "...       ...                     ...\n",
              "2703  1128975      Genetic_Algorithms\n",
              "2704  1128977      Genetic_Algorithms\n",
              "2705  1128978      Genetic_Algorithms\n",
              "2706   117328              Case_Based\n",
              "2707    24043         Neural_Networks\n",
              "\n",
              "[2708 rows x 2 columns]"
            ],
            "text/html": [
              "\n",
              "  <div id=\"df-06c35897-add4-4569-b4fe-a49722dd3111\" class=\"colab-df-container\">\n",
              "    <div>\n",
              "<style scoped>\n",
              "    .dataframe tbody tr th:only-of-type {\n",
              "        vertical-align: middle;\n",
              "    }\n",
              "\n",
              "    .dataframe tbody tr th {\n",
              "        vertical-align: top;\n",
              "    }\n",
              "\n",
              "    .dataframe thead th {\n",
              "        text-align: right;\n",
              "    }\n",
              "</style>\n",
              "<table border=\"1\" class=\"dataframe\">\n",
              "  <thead>\n",
              "    <tr style=\"text-align: right;\">\n",
              "      <th></th>\n",
              "      <th>Node ID</th>\n",
              "      <th>Label</th>\n",
              "    </tr>\n",
              "  </thead>\n",
              "  <tbody>\n",
              "    <tr>\n",
              "      <th>0</th>\n",
              "      <td>31336</td>\n",
              "      <td>Neural_Networks</td>\n",
              "    </tr>\n",
              "    <tr>\n",
              "      <th>1</th>\n",
              "      <td>1061127</td>\n",
              "      <td>Rule_Learning</td>\n",
              "    </tr>\n",
              "    <tr>\n",
              "      <th>2</th>\n",
              "      <td>1106406</td>\n",
              "      <td>Reinforcement_Learning</td>\n",
              "    </tr>\n",
              "    <tr>\n",
              "      <th>3</th>\n",
              "      <td>13195</td>\n",
              "      <td>Reinforcement_Learning</td>\n",
              "    </tr>\n",
              "    <tr>\n",
              "      <th>4</th>\n",
              "      <td>37879</td>\n",
              "      <td>Probabilistic_Methods</td>\n",
              "    </tr>\n",
              "    <tr>\n",
              "      <th>...</th>\n",
              "      <td>...</td>\n",
              "      <td>...</td>\n",
              "    </tr>\n",
              "    <tr>\n",
              "      <th>2703</th>\n",
              "      <td>1128975</td>\n",
              "      <td>Genetic_Algorithms</td>\n",
              "    </tr>\n",
              "    <tr>\n",
              "      <th>2704</th>\n",
              "      <td>1128977</td>\n",
              "      <td>Genetic_Algorithms</td>\n",
              "    </tr>\n",
              "    <tr>\n",
              "      <th>2705</th>\n",
              "      <td>1128978</td>\n",
              "      <td>Genetic_Algorithms</td>\n",
              "    </tr>\n",
              "    <tr>\n",
              "      <th>2706</th>\n",
              "      <td>117328</td>\n",
              "      <td>Case_Based</td>\n",
              "    </tr>\n",
              "    <tr>\n",
              "      <th>2707</th>\n",
              "      <td>24043</td>\n",
              "      <td>Neural_Networks</td>\n",
              "    </tr>\n",
              "  </tbody>\n",
              "</table>\n",
              "<p>2708 rows × 2 columns</p>\n",
              "</div>\n",
              "    <div class=\"colab-df-buttons\">\n",
              "\n",
              "  <div class=\"colab-df-container\">\n",
              "    <button class=\"colab-df-convert\" onclick=\"convertToInteractive('df-06c35897-add4-4569-b4fe-a49722dd3111')\"\n",
              "            title=\"Convert this dataframe to an interactive table.\"\n",
              "            style=\"display:none;\">\n",
              "\n",
              "  <svg xmlns=\"http://www.w3.org/2000/svg\" height=\"24px\" viewBox=\"0 -960 960 960\">\n",
              "    <path d=\"M120-120v-720h720v720H120Zm60-500h600v-160H180v160Zm220 220h160v-160H400v160Zm0 220h160v-160H400v160ZM180-400h160v-160H180v160Zm440 0h160v-160H620v160ZM180-180h160v-160H180v160Zm440 0h160v-160H620v160Z\"/>\n",
              "  </svg>\n",
              "    </button>\n",
              "\n",
              "  <style>\n",
              "    .colab-df-container {\n",
              "      display:flex;\n",
              "      gap: 12px;\n",
              "    }\n",
              "\n",
              "    .colab-df-convert {\n",
              "      background-color: #E8F0FE;\n",
              "      border: none;\n",
              "      border-radius: 50%;\n",
              "      cursor: pointer;\n",
              "      display: none;\n",
              "      fill: #1967D2;\n",
              "      height: 32px;\n",
              "      padding: 0 0 0 0;\n",
              "      width: 32px;\n",
              "    }\n",
              "\n",
              "    .colab-df-convert:hover {\n",
              "      background-color: #E2EBFA;\n",
              "      box-shadow: 0px 1px 2px rgba(60, 64, 67, 0.3), 0px 1px 3px 1px rgba(60, 64, 67, 0.15);\n",
              "      fill: #174EA6;\n",
              "    }\n",
              "\n",
              "    .colab-df-buttons div {\n",
              "      margin-bottom: 4px;\n",
              "    }\n",
              "\n",
              "    [theme=dark] .colab-df-convert {\n",
              "      background-color: #3B4455;\n",
              "      fill: #D2E3FC;\n",
              "    }\n",
              "\n",
              "    [theme=dark] .colab-df-convert:hover {\n",
              "      background-color: #434B5C;\n",
              "      box-shadow: 0px 1px 3px 1px rgba(0, 0, 0, 0.15);\n",
              "      filter: drop-shadow(0px 1px 2px rgba(0, 0, 0, 0.3));\n",
              "      fill: #FFFFFF;\n",
              "    }\n",
              "  </style>\n",
              "\n",
              "    <script>\n",
              "      const buttonEl =\n",
              "        document.querySelector('#df-06c35897-add4-4569-b4fe-a49722dd3111 button.colab-df-convert');\n",
              "      buttonEl.style.display =\n",
              "        google.colab.kernel.accessAllowed ? 'block' : 'none';\n",
              "\n",
              "      async function convertToInteractive(key) {\n",
              "        const element = document.querySelector('#df-06c35897-add4-4569-b4fe-a49722dd3111');\n",
              "        const dataTable =\n",
              "          await google.colab.kernel.invokeFunction('convertToInteractive',\n",
              "                                                    [key], {});\n",
              "        if (!dataTable) return;\n",
              "\n",
              "        const docLinkHtml = 'Like what you see? Visit the ' +\n",
              "          '<a target=\"_blank\" href=https://colab.research.google.com/notebooks/data_table.ipynb>data table notebook</a>'\n",
              "          + ' to learn more about interactive tables.';\n",
              "        element.innerHTML = '';\n",
              "        dataTable['output_type'] = 'display_data';\n",
              "        await google.colab.output.renderOutput(dataTable, element);\n",
              "        const docLink = document.createElement('div');\n",
              "        docLink.innerHTML = docLinkHtml;\n",
              "        element.appendChild(docLink);\n",
              "      }\n",
              "    </script>\n",
              "  </div>\n",
              "\n",
              "\n",
              "<div id=\"df-c776cb52-6080-4084-8aaa-1751e1de01fc\">\n",
              "  <button class=\"colab-df-quickchart\" onclick=\"quickchart('df-c776cb52-6080-4084-8aaa-1751e1de01fc')\"\n",
              "            title=\"Suggest charts\"\n",
              "            style=\"display:none;\">\n",
              "\n",
              "<svg xmlns=\"http://www.w3.org/2000/svg\" height=\"24px\"viewBox=\"0 0 24 24\"\n",
              "     width=\"24px\">\n",
              "    <g>\n",
              "        <path d=\"M19 3H5c-1.1 0-2 .9-2 2v14c0 1.1.9 2 2 2h14c1.1 0 2-.9 2-2V5c0-1.1-.9-2-2-2zM9 17H7v-7h2v7zm4 0h-2V7h2v10zm4 0h-2v-4h2v4z\"/>\n",
              "    </g>\n",
              "</svg>\n",
              "  </button>\n",
              "\n",
              "<style>\n",
              "  .colab-df-quickchart {\n",
              "      --bg-color: #E8F0FE;\n",
              "      --fill-color: #1967D2;\n",
              "      --hover-bg-color: #E2EBFA;\n",
              "      --hover-fill-color: #174EA6;\n",
              "      --disabled-fill-color: #AAA;\n",
              "      --disabled-bg-color: #DDD;\n",
              "  }\n",
              "\n",
              "  [theme=dark] .colab-df-quickchart {\n",
              "      --bg-color: #3B4455;\n",
              "      --fill-color: #D2E3FC;\n",
              "      --hover-bg-color: #434B5C;\n",
              "      --hover-fill-color: #FFFFFF;\n",
              "      --disabled-bg-color: #3B4455;\n",
              "      --disabled-fill-color: #666;\n",
              "  }\n",
              "\n",
              "  .colab-df-quickchart {\n",
              "    background-color: var(--bg-color);\n",
              "    border: none;\n",
              "    border-radius: 50%;\n",
              "    cursor: pointer;\n",
              "    display: none;\n",
              "    fill: var(--fill-color);\n",
              "    height: 32px;\n",
              "    padding: 0;\n",
              "    width: 32px;\n",
              "  }\n",
              "\n",
              "  .colab-df-quickchart:hover {\n",
              "    background-color: var(--hover-bg-color);\n",
              "    box-shadow: 0 1px 2px rgba(60, 64, 67, 0.3), 0 1px 3px 1px rgba(60, 64, 67, 0.15);\n",
              "    fill: var(--button-hover-fill-color);\n",
              "  }\n",
              "\n",
              "  .colab-df-quickchart-complete:disabled,\n",
              "  .colab-df-quickchart-complete:disabled:hover {\n",
              "    background-color: var(--disabled-bg-color);\n",
              "    fill: var(--disabled-fill-color);\n",
              "    box-shadow: none;\n",
              "  }\n",
              "\n",
              "  .colab-df-spinner {\n",
              "    border: 2px solid var(--fill-color);\n",
              "    border-color: transparent;\n",
              "    border-bottom-color: var(--fill-color);\n",
              "    animation:\n",
              "      spin 1s steps(1) infinite;\n",
              "  }\n",
              "\n",
              "  @keyframes spin {\n",
              "    0% {\n",
              "      border-color: transparent;\n",
              "      border-bottom-color: var(--fill-color);\n",
              "      border-left-color: var(--fill-color);\n",
              "    }\n",
              "    20% {\n",
              "      border-color: transparent;\n",
              "      border-left-color: var(--fill-color);\n",
              "      border-top-color: var(--fill-color);\n",
              "    }\n",
              "    30% {\n",
              "      border-color: transparent;\n",
              "      border-left-color: var(--fill-color);\n",
              "      border-top-color: var(--fill-color);\n",
              "      border-right-color: var(--fill-color);\n",
              "    }\n",
              "    40% {\n",
              "      border-color: transparent;\n",
              "      border-right-color: var(--fill-color);\n",
              "      border-top-color: var(--fill-color);\n",
              "    }\n",
              "    60% {\n",
              "      border-color: transparent;\n",
              "      border-right-color: var(--fill-color);\n",
              "    }\n",
              "    80% {\n",
              "      border-color: transparent;\n",
              "      border-right-color: var(--fill-color);\n",
              "      border-bottom-color: var(--fill-color);\n",
              "    }\n",
              "    90% {\n",
              "      border-color: transparent;\n",
              "      border-bottom-color: var(--fill-color);\n",
              "    }\n",
              "  }\n",
              "</style>\n",
              "\n",
              "  <script>\n",
              "    async function quickchart(key) {\n",
              "      const quickchartButtonEl =\n",
              "        document.querySelector('#' + key + ' button');\n",
              "      quickchartButtonEl.disabled = true;  // To prevent multiple clicks.\n",
              "      quickchartButtonEl.classList.add('colab-df-spinner');\n",
              "      try {\n",
              "        const charts = await google.colab.kernel.invokeFunction(\n",
              "            'suggestCharts', [key], {});\n",
              "      } catch (error) {\n",
              "        console.error('Error during call to suggestCharts:', error);\n",
              "      }\n",
              "      quickchartButtonEl.classList.remove('colab-df-spinner');\n",
              "      quickchartButtonEl.classList.add('colab-df-quickchart-complete');\n",
              "    }\n",
              "    (() => {\n",
              "      let quickchartButtonEl =\n",
              "        document.querySelector('#df-c776cb52-6080-4084-8aaa-1751e1de01fc button');\n",
              "      quickchartButtonEl.style.display =\n",
              "        google.colab.kernel.accessAllowed ? 'block' : 'none';\n",
              "    })();\n",
              "  </script>\n",
              "</div>\n",
              "    </div>\n",
              "  </div>\n"
            ],
            "application/vnd.google.colaboratory.intrinsic+json": {
              "type": "dataframe",
              "variable_name": "df",
              "summary": "{\n  \"name\": \"df\",\n  \"rows\": 2708,\n  \"fields\": [\n    {\n      \"column\": \"Node ID\",\n      \"properties\": {\n        \"dtype\": \"number\",\n        \"std\": 459622,\n        \"min\": 35,\n        \"max\": 1155073,\n        \"num_unique_values\": 2708,\n        \"samples\": [\n          1122642,\n          78994,\n          141347\n        ],\n        \"semantic_type\": \"\",\n        \"description\": \"\"\n      }\n    },\n    {\n      \"column\": \"Label\",\n      \"properties\": {\n        \"dtype\": \"category\",\n        \"num_unique_values\": 7,\n        \"samples\": [\n          \"Neural_Networks\",\n          \"Rule_Learning\",\n          \"Genetic_Algorithms\"\n        ],\n        \"semantic_type\": \"\",\n        \"description\": \"\"\n      }\n    }\n  ]\n}"
            }
          },
          "metadata": {},
          "execution_count": 9
        }
      ],
      "source": [
        "import pandas as pd\n",
        "\n",
        "df = pd.DataFrame({'Node ID': list(features.keys()), 'Label': list(labels.values())})\n",
        "df"
      ]
    },
    {
      "cell_type": "code",
      "execution_count": 10,
      "metadata": {
        "id": "UBg6-HpsSzE1"
      },
      "outputs": [],
      "source": [
        "# id to index mapping\n",
        "id_to_idx = {node_id: idx for idx, node_id in enumerate(df['Node ID'])}\n",
        "# index to id mapping\n",
        "idx_to_id = {idx: node_id for idx, node_id in enumerate(df['Node ID'])}"
      ]
    },
    {
      "cell_type": "markdown",
      "metadata": {
        "id": "m2_6Ns_YI3eW"
      },
      "source": [
        "Furthermore, the edge index contains the original node IDs. We need to map these IDs to the new IDs as well. We will use `id_to_idx` dictionary to do this."
      ]
    },
    {
      "cell_type": "code",
      "execution_count": 11,
      "metadata": {
        "colab": {
          "base_uri": "https://localhost:8080/"
        },
        "id": "XSe-NO8YS4yn",
        "outputId": "88b5236a-f7d3-488f-8609-fd86a8dc5434"
      },
      "outputs": [
        {
          "output_type": "execute_result",
          "data": {
            "text/plain": [
              "array([[ 163,  402],\n",
              "       [ 163,  659],\n",
              "       [ 163, 1696],\n",
              "       ...,\n",
              "       [2258, 1887],\n",
              "       [1887, 1902],\n",
              "       [1686,  837]])"
            ]
          },
          "metadata": {},
          "execution_count": 11
        }
      ],
      "source": [
        "edge_index = np.vectorize(lambda x: id_to_idx[x])(edge_index)\n",
        "edge_index"
      ]
    },
    {
      "cell_type": "markdown",
      "metadata": {
        "id": "kYFe2j6aI3ea"
      },
      "source": [
        "### Tensor Conversion\n",
        "\n",
        "We need to convert the features, labels, and edge index to PyTorch tensors. We will use the `torch.tensor` function to do this."
      ]
    },
    {
      "cell_type": "code",
      "execution_count": 12,
      "metadata": {
        "colab": {
          "base_uri": "https://localhost:8080/"
        },
        "id": "0qTfwfisj274",
        "outputId": "f2d24ee4-1132-4243-fe83-b9360a3a8740"
      },
      "outputs": [
        {
          "output_type": "execute_result",
          "data": {
            "text/plain": [
              "torch.Size([2708, 1433])"
            ]
          },
          "metadata": {},
          "execution_count": 12
        }
      ],
      "source": [
        "# features --> key: node ID, value: feature vector\n",
        "# Convert features to tensor with shape (num_nodes, num_features)\n",
        "features_tensor = torch.tensor([features[key] for key in features.keys()], dtype=torch.float)\n",
        "features_tensor.shape"
      ]
    },
    {
      "cell_type": "markdown",
      "metadata": {
        "id": "oUKVnU4DI3ec"
      },
      "source": [
        "The labels are stored as strings in the dataset. We need to convert them to integers. We will make a dictionary to map the labels to integers. We also make a reverse dictionary to map the integers back to the labels."
      ]
    },
    {
      "cell_type": "code",
      "execution_count": 13,
      "metadata": {
        "colab": {
          "base_uri": "https://localhost:8080/"
        },
        "id": "CgamzOixjUGt",
        "outputId": "971901d6-4afb-4a55-9640-411cce689562"
      },
      "outputs": [
        {
          "output_type": "execute_result",
          "data": {
            "text/plain": [
              "{'Case_Based',\n",
              " 'Genetic_Algorithms',\n",
              " 'Neural_Networks',\n",
              " 'Probabilistic_Methods',\n",
              " 'Reinforcement_Learning',\n",
              " 'Rule_Learning',\n",
              " 'Theory'}"
            ]
          },
          "metadata": {},
          "execution_count": 13
        }
      ],
      "source": [
        "unique_labels = set(labels.values())\n",
        "unique_labels"
      ]
    },
    {
      "cell_type": "code",
      "execution_count": 14,
      "metadata": {
        "colab": {
          "base_uri": "https://localhost:8080/"
        },
        "id": "2yYm8M4njUm_",
        "outputId": "e3452190-b7de-43b7-aa6f-37a371d2d370"
      },
      "outputs": [
        {
          "output_type": "execute_result",
          "data": {
            "text/plain": [
              "{'Rule_Learning': 0,\n",
              " 'Theory': 1,\n",
              " 'Probabilistic_Methods': 2,\n",
              " 'Genetic_Algorithms': 3,\n",
              " 'Case_Based': 4,\n",
              " 'Reinforcement_Learning': 5,\n",
              " 'Neural_Networks': 6}"
            ]
          },
          "metadata": {},
          "execution_count": 14
        }
      ],
      "source": [
        "label_to_id = {label: i for i, label in enumerate(unique_labels)}\n",
        "label_to_id"
      ]
    },
    {
      "cell_type": "code",
      "execution_count": 15,
      "metadata": {
        "colab": {
          "base_uri": "https://localhost:8080/"
        },
        "id": "hVf5eDZ6jmDA",
        "outputId": "3c267b88-8c9b-47f4-a1e5-6ecd780d6c3e"
      },
      "outputs": [
        {
          "output_type": "execute_result",
          "data": {
            "text/plain": [
              "{0: 'Rule_Learning',\n",
              " 1: 'Theory',\n",
              " 2: 'Probabilistic_Methods',\n",
              " 3: 'Genetic_Algorithms',\n",
              " 4: 'Case_Based',\n",
              " 5: 'Reinforcement_Learning',\n",
              " 6: 'Neural_Networks'}"
            ]
          },
          "metadata": {},
          "execution_count": 15
        }
      ],
      "source": [
        "id_to_label = {i: label for label, i in label_to_id.items()}\n",
        "id_to_label"
      ]
    },
    {
      "cell_type": "code",
      "execution_count": 17,
      "metadata": {
        "colab": {
          "base_uri": "https://localhost:8080/"
        },
        "id": "7zCk8shmnUoO",
        "outputId": "f383fa09-2424-4843-fa02-6e091d079626"
      },
      "outputs": [
        {
          "output_type": "execute_result",
          "data": {
            "text/plain": [
              "torch.Size([2708])"
            ]
          },
          "metadata": {},
          "execution_count": 17
        }
      ],
      "source": [
        "# labels --> key: node ID, value: label\n",
        "# Convert labels to tensor with shape (num_nodes,)\n",
        "labels_tensor = torch.tensor([label_to_id[labels[key]] for key in labels.keys()], dtype=torch.long)\n",
        "labels_tensor.shape\n",
        "# Uncomment the following line to convert labels to one-hot encoding (num_nodes, num_classes)\n",
        "# In that case you need to change the loss function to `torch.nn.functional.cross_entropy`\n",
        "# labels_one_hot = torch.nn.functional.one_hot(labels_tensor, num_classes=len(unique_labels))"
      ]
    },
    {
      "cell_type": "markdown",
      "metadata": {
        "id": "eyNeqDT4I3ee"
      },
      "source": [
        "PyG needs the edge index to be a tensor with shape `(2, num_edges)`. We need to transpose the edge index to match this shape. We also use `contiguous()` to make sure that the tensor is stored in a contiguous chunk of memory. This will be necessary for some PyTorch operations."
      ]
    },
    {
      "cell_type": "code",
      "execution_count": 18,
      "metadata": {
        "colab": {
          "base_uri": "https://localhost:8080/"
        },
        "id": "P0T_ECa3n9Ay",
        "outputId": "dc26bafa-ec44-43cb-c246-0f1e22729c36"
      },
      "outputs": [
        {
          "output_type": "execute_result",
          "data": {
            "text/plain": [
              "torch.Size([2, 10556])"
            ]
          },
          "metadata": {},
          "execution_count": 18
        }
      ],
      "source": [
        "edge_index_tensor = torch.tensor(edge_index, dtype=torch.long).t().contiguous()\n",
        "edge_index_tensor.shape"
      ]
    },
    {
      "cell_type": "code",
      "execution_count": 19,
      "metadata": {
        "colab": {
          "base_uri": "https://localhost:8080/"
        },
        "id": "ZlLrVwt_xEXm",
        "outputId": "a5b3ea18-d831-47a5-920c-1995522c2d2c"
      },
      "outputs": [
        {
          "output_type": "execute_result",
          "data": {
            "text/plain": [
              "tensor([[ 163,  163,  163,  ..., 2258, 1887, 1686],\n",
              "        [ 402,  659, 1696,  ..., 1887, 1902,  837]])"
            ]
          },
          "metadata": {},
          "execution_count": 19
        }
      ],
      "source": [
        "edge_index_tensor"
      ]
    },
    {
      "cell_type": "markdown",
      "metadata": {
        "id": "PJ96_HsUI3ef"
      },
      "source": [
        "### Data Object\n",
        "\n",
        "The `Data` object in PyG is a data container class to store node-level and graph-level attributes. We will create a `Data` object from the features, labels, and edge index."
      ]
    },
    {
      "cell_type": "code",
      "execution_count": 23,
      "metadata": {
        "colab": {
          "base_uri": "https://localhost:8080/"
        },
        "id": "5B0u1jCWf7lQ",
        "outputId": "1283f1c6-2b21-4794-939f-0a63937037cf"
      },
      "outputs": [
        {
          "output_type": "execute_result",
          "data": {
            "text/plain": [
              "Data(x=[2708, 1433], edge_index=[2, 10556], y=[2708])"
            ]
          },
          "metadata": {},
          "execution_count": 23
        }
      ],
      "source": [
        "from torch_geometric.data import Data\n",
        "\n",
        "data = Data(x=features_tensor, y=labels_tensor, edge_index=edge_index_tensor)\n",
        "data"
      ]
    },
    {
      "cell_type": "markdown",
      "metadata": {
        "id": "QWtoxKDYI3eg"
      },
      "source": [
        "### Normalization\n",
        "\n",
        "We will normalize the feature vectors in a way that the sum of the feature vectors of each node is equal to `1`. This is a common practice in GNNs to make the model invariant to the scale of the feature vectors. We will use the `NormalizeFeatures` class from PyG to do this."
      ]
    },
    {
      "cell_type": "code",
      "execution_count": 24,
      "metadata": {
        "id": "fOrg3q-4iGv0"
      },
      "outputs": [],
      "source": [
        "from torch_geometric.transforms import NormalizeFeatures\n",
        "data = NormalizeFeatures()(data)"
      ]
    },
    {
      "cell_type": "code",
      "execution_count": 25,
      "metadata": {
        "colab": {
          "base_uri": "https://localhost:8080/"
        },
        "id": "oeKf3DF8I3eg",
        "outputId": "9d7fd836-c972-44ef-dc0f-52134387f9aa"
      },
      "outputs": [
        {
          "output_type": "execute_result",
          "data": {
            "text/plain": [
              "Data(x=[2708, 1433], edge_index=[2, 10556], y=[2708], num_classes=7)"
            ]
          },
          "metadata": {},
          "execution_count": 25
        }
      ],
      "source": [
        "# add the number of classes to the data object\n",
        "data.num_classes = len(unique_labels)\n",
        "# move the data object to the device (CPU or GPU)\n",
        "data.to(device)"
      ]
    },
    {
      "cell_type": "markdown",
      "metadata": {
        "id": "kY_V6Yv0I3eg"
      },
      "source": [
        "## GNN Models"
      ]
    },
    {
      "cell_type": "markdown",
      "metadata": {
        "id": "Q6Rm0uSfI3eg"
      },
      "source": [
        "### Graph Convolutional Network (GCN)\n",
        "\n",
        "The **Graph Convolutional Network (GCN)** is one of the simplest and most popular GNN architectures. The GCN layer is defined as follows:\n",
        "\n",
        "$$ h_v^{(l+1)} = \\sigma\\left(\\sum_{u \\in \\mathcal{N}_v} \\frac{1}{c_{u,v}} W^{(l)} h_u^{(l)}\\right) $$\n",
        "\n",
        "where:\n",
        "\n",
        "- $h_v^{(l)}$ is the representation of node $v$ at layer $l$.\n",
        "- $\\mathcal{N}_v$ is the set of neighbors of node $v$.\n",
        "- $c_{u,v}$ is the product of the square root of the degrees of nodes $u$ and $v$.\n",
        "- $W^{(l)}$ is the weight matrix at layer $l$.\n",
        "- $\\sigma$ is the activation function.\n",
        "\n",
        "The GCN layer is implemented in PyG as `GCNConv`. We will create a simple GCN model with two GCN layers as follows:\n",
        "\n",
        "1. **GCN Layer 1**: Input dimension is the number of features, output dimension is `hidden_channels`.\n",
        "2. **Activation**: Applying an activation function (e.g., ReLU) to the output of the first GCN layer.\n",
        "3. **Dropout**: Dropping out some nodes to prevent overfitting.\n",
        "4. **GCN Layer 2**: Input dimension is `hidden_channels`, output dimension is the number of classes.\n",
        "5. **LogSoftmax**: Producing the output in the form of log probabilities.\n",
        "\n",
        "#### Softmax vs. LogSoftmax\n",
        "\n",
        "Softmax is a function that takes a vector of arbitrary real-valued scores and squashes it to a vector of values between `0` and `1` that sum to `1`. It is defined as follows:\n",
        "\n",
        "$$ \\text{Softmax}(x)_i = \\frac{e^{x_i}}{\\sum_j e^{x_j}} $$\n",
        "\n",
        "The problem with the softmax function is that it can easily overflow for large values of $x_i$. Therefore, it is common to use the log-softmax function, which is defined as follows:\n",
        "\n",
        "$$ \\text{LogSoftmax}(x)_i = \\log\\left(\\frac{e^{x_i}}{\\sum_j e^{x_j}}\\right) = x_i - \\log\\left(\\sum_j e^{x_j}\\right) $$"
      ]
    },
    {
      "cell_type": "code",
      "execution_count": 26,
      "metadata": {
        "id": "zWGcJvvsguPm"
      },
      "outputs": [],
      "source": [
        "import torch.nn.functional as F\n",
        "from torch_geometric.nn import GCNConv\n",
        "\n",
        "class GCN(torch.nn.Module):\n",
        "    '''\n",
        "    `GCN`: A simple Graph Convolutional Network model with two layers\n",
        "        - `hidden_channels`: The number of hidden channels in the GCN layers\n",
        "        - `dropout`: The dropout probability\n",
        "        - `activation`: The activation function to use (e.g., `torch.nn.functional.relu`)\n",
        "    '''\n",
        "\n",
        "    def __init__(self, hidden_channels, dropout=0.5, activation=F.relu):\n",
        "        super(GCN, self).__init__()\n",
        "        self.layer1 = GCNConv(data.num_features, hidden_channels)\n",
        "        self.layer2 = GCNConv(hidden_channels, data.num_classes)\n",
        "        self.dropout = dropout\n",
        "        self.activation = activation\n",
        "\n",
        "\n",
        "    def forward(self, data):\n",
        "        # x: node features, edge_index: adjacency list\n",
        "        x, edge_index = data.x, data.edge_index\n",
        "\n",
        "        x = self.layer1(x, edge_index)\n",
        "        x = self.activation(x)\n",
        "        x = F.dropout(x, p=self.dropout, training=self.training)\n",
        "        x = self.layer2(x, edge_index)\n",
        "\n",
        "        return F.log_softmax(x, dim=1)"
      ]
    },
    {
      "cell_type": "markdown",
      "metadata": {
        "id": "i3cfTnwvI3eh"
      },
      "source": [
        "### Graph Attention Network (GAT)\n",
        "\n",
        "The **Graph Attention Network (GAT)** is another popular GNN architecture that uses attention mechanisms to compute the importance of the neighbors of a node. The GAT layer is defined as follows:\n",
        "\n",
        "$$ h_v^{(l+1)} = \\sigma\\left(\\sum_{u \\in \\mathcal{N}_v} \\alpha_{u,v} W^{(l)} h_u^{(l)}\\right) $$\n",
        "\n",
        "where:\n",
        "\n",
        "- $\\alpha_{u,v}$ is the attention coefficient between nodes $u$ and $v$.\n",
        "- $W^{(l)}$ is the weight matrix at layer $l$.\n",
        "- $\\sigma$ is the activation function.\n",
        "\n",
        "The attention coefficient $\\alpha_{u,v}$ is computed as follows:\n",
        "\n",
        "$$ \\alpha_{u,v} = \\frac{\\exp\\left(\\text{LeakyReLU}\\left(\\vec{a}^T [W h_u^{(l)} || W h_v^{(l)}]\\right)\\right)}{\\sum_{w \\in \\mathcal{N}_v} \\exp\\left(\\text{LeakyReLU}\\left(\\vec{a}^T [W h_u^{(l)} || W h_w^{(l)}]\\right)\\right)} $$\n",
        "\n",
        "where:\n",
        "\n",
        "- $\\vec{a}$ is a learnable weight vector.\n",
        "- $||$ denotes concatenation.\n",
        "- $\\text{LeakyReLU}$ is the Leaky Rectified Linear Unit activation function.\n",
        "\n",
        "**Multi-head attention** can be used to stabilize the learning process and improve the performance of the model. In multi-head attention, the attention mechanism is applied multiple times with different weight matrices, and the results are usually concatenated or averaged. The GAT layer in PyG supports multi-head attention.\n",
        "\n",
        "The GAT layer is implemented in PyG as `GATConv`. We will create a simple GAT model with two GAT layers as follows:\n",
        "\n",
        "1. **GAT Layer 1**: Input dimension is the number of features, output dimension is `hidden_channels`.\n",
        "2. **Activation**: Applying an activation function (e.g., ReLU) to the output of the first GAT layer.\n",
        "3. **Dropout**: Dropping out some nodes to prevent overfitting.\n",
        "4. **GAT Layer 2**: Input dimension is `hidden_channels`, output dimension is the number of classes.\n",
        "5. **LogSoftmax**: Producing the output in the form of log probabilities."
      ]
    },
    {
      "cell_type": "code",
      "execution_count": 27,
      "metadata": {
        "id": "rQ9joDYoI3et"
      },
      "outputs": [],
      "source": [
        "from torch_geometric.nn import GATConv\n",
        "\n",
        "class GAT(torch.nn.Module):\n",
        "    '''\n",
        "    `GAT`: A simple Graph Attention Network model with two layers\n",
        "        - `hidden_channels`: The number of hidden channels in the GAT layers\n",
        "        - `dropout`: The dropout probability\n",
        "        - `activation`: The activation function to use (e.g., `torch.nn.functional.relu`)\n",
        "        - `heads`: The number of attention heads\n",
        "    '''\n",
        "\n",
        "    def __init__(self, hidden_channels, dropout=0.5, activation=F.relu, heads=8):\n",
        "        super(GAT, self).__init__()\n",
        "        self.layer1 = GATConv(data.num_features, hidden_channels, heads=heads, dropout=dropout)\n",
        "        self.layer2 = GATConv(hidden_channels * heads, data.num_classes, heads=1, dropout=dropout)\n",
        "        self.dropout = dropout\n",
        "        self.activation = activation\n",
        "\n",
        "    def forward(self, data):\n",
        "        # x: node features, edge_index: adjacency list\n",
        "        x, edge_index = data.x, data.edge_index\n",
        "\n",
        "        x = self.layer1(x, edge_index)\n",
        "        x = self.activation(x)\n",
        "        x = F.dropout(x, p=self.dropout, training=self.training)\n",
        "        x = self.layer2(x, edge_index)\n",
        "\n",
        "        return F.log_softmax(x, dim=1)"
      ]
    },
    {
      "cell_type": "markdown",
      "metadata": {
        "id": "PLl2Yo2FI3et"
      },
      "source": [
        "### Graph Attention Network v2 (GATv2)\n",
        "\n",
        "The [How Attentive are Graph Attention Networks?](https://arxiv.org/abs/2105.14491) paper demonstrates that the original GAT model has a fundamental flaw in the way it computes the attention coefficients. The original GAT model uses a static attention mechanism. They propose a new variant of the GAT model called GATv2, which uses a strictly more expressive dynamic attention. The original GAT computes the attention coefficients as follows:\n",
        "\n",
        "$$ \\vec{a}_{u,v} = \\text{LeakyReLU}\\left(\\vec{a}^T [W h_u || W h_v]\\right) $$\n",
        "\n",
        "However, the GATv2 model computes the attention coefficients as follows:\n",
        "\n",
        "$$ \\vec{a}_{u,v} = \\vec{a}^T \\text{LeakyReLU}\\left(W [h_u || h_v]\\right) $$\n",
        "\n",
        "The GATv2 model is implemented in PyG as `GATv2Conv`. We will create a simple GATv2 model the same as the GAT model."
      ]
    },
    {
      "cell_type": "code",
      "execution_count": 28,
      "metadata": {
        "id": "AeSLc_8qI3et"
      },
      "outputs": [],
      "source": [
        "from torch_geometric.nn import GATv2Conv\n",
        "\n",
        "class GATv2(torch.nn.Module):\n",
        "    '''\n",
        "    `GATv2`: A simple Graph Attention Network model with two layers\n",
        "        - `hidden_channels`: The number of hidden channels in the GAT layers\n",
        "        - `dropout`: The dropout probability\n",
        "        - `activation`: The activation function to use (e.g., `torch.nn.functional.relu`)\n",
        "        - `heads`: The number of attention heads\n",
        "    '''\n",
        "\n",
        "    def __init__(self, hidden_channels, dropout=0.5, activation=F.relu, heads=8):\n",
        "        super(GATv2, self).__init__()\n",
        "        self.layer1 = GATv2Conv(data.num_features, hidden_channels, heads=heads, dropout=dropout)\n",
        "        self.layer2 = GATv2Conv(hidden_channels * heads, data.num_classes, heads=1, dropout=dropout)\n",
        "        self.dropout = dropout\n",
        "        self.activation = activation\n",
        "\n",
        "    def forward(self, data):\n",
        "        # x: node features, edge_index: adjacency list\n",
        "        x, edge_index = data.x, data.edge_index\n",
        "\n",
        "        x = self.layer1(x, edge_index)\n",
        "        x = self.activation(x)\n",
        "        x = F.dropout(x, p=self.dropout, training=self.training)\n",
        "        x = self.layer2(x, edge_index)\n",
        "\n",
        "        return F.log_softmax(x, dim=1)"
      ]
    },
    {
      "cell_type": "markdown",
      "metadata": {
        "id": "JmKQ7YbPI3eu"
      },
      "source": [
        "## Training\n",
        "\n",
        "### Single Epoch Training\n",
        "\n",
        "The `train` function will train the model for a single epoch. It will do the following:\n",
        "\n",
        "1. Set the model to training mode.\n",
        "2. Zero the gradients.\n",
        "3. Make a forward pass by passing the `Data` object to the model.\n",
        "4. Calculate the loss by comparing the output of the model with the ground truth labels for the training nodes.\n",
        "5. Calculate the gradients.\n",
        "6. Update the weights using the optimizer.\n",
        "7. Return the loss.\n",
        "\n",
        "We will use the negative log likelihood loss (`NLLLoss`) for this purpose because we are using log probabilities as the output of the model."
      ]
    },
    {
      "cell_type": "code",
      "execution_count": 29,
      "metadata": {
        "id": "wN898gakI3eu"
      },
      "outputs": [],
      "source": [
        "def train(model, optimizer, data):\n",
        "    '''\n",
        "    `train`: A function to train the model for one epoch\n",
        "        - `model`: The model to train\n",
        "        - `optimizer`: The optimizer to use\n",
        "        - `data`: A PyG `Data` object containing the graph data\n",
        "    '''\n",
        "\n",
        "    # Set the model to training mode\n",
        "    model.train()\n",
        "\n",
        "    optimizer.zero_grad()\n",
        "    out = model(data)\n",
        "    loss = F.nll_loss(out[data.train_mask], data.y[data.train_mask])\n",
        "    loss.backward()\n",
        "    optimizer.step()\n",
        "    return loss"
      ]
    },
    {
      "cell_type": "markdown",
      "metadata": {
        "id": "WraCfGCEI3eu"
      },
      "source": [
        "### Evaluation Function\n",
        "\n",
        "The `evaluate` function will evaluate the model on the validation or test set. It will do the following:\n",
        "\n",
        "1. Set the model to evaluation mode.\n",
        "2. Make a forward pass by passing the `Data` object to the model.\n",
        "3. Find the index of the class with the maximum log probability for each node.\n",
        "4. Compare the predicted classes with the ground truth labels"
      ]
    },
    {
      "cell_type": "code",
      "execution_count": 43,
      "metadata": {
        "id": "iut-MzcuI3eu"
      },
      "outputs": [],
      "source": [
        "from sklearn.metrics import f1_score, accuracy_score\n",
        "\n",
        "def evaluate(model, data):\n",
        "    '''\n",
        "    `evaluate`: A function to evaluate the model on the test set\n",
        "        - `model`: The model to evaluate\n",
        "        - `data`: A PyG `Data` object containing the graph data\n",
        "    '''\n",
        "\n",
        "    # Set the model to evaluation mode\n",
        "    model.eval()\n",
        "\n",
        "    out = model(data)\n",
        "    pred = out.argmax(dim=1)\n",
        "    pred_np = pred[data.test_mask].cpu().numpy()\n",
        "    actual_np = data.y[data.test_mask].cpu().numpy()\n",
        "    acc = accuracy_score(actual_np, pred_np)\n",
        "    f1 = f1_score(actual_np, pred_np, average='micro')\n",
        "    return pred_np, acc, f1"
      ]
    },
    {
      "cell_type": "markdown",
      "metadata": {
        "id": "uHuGIxVJI3ev"
      },
      "source": [
        "### K-Fold Cross-Validation\n",
        "\n",
        "K-Fold Cross-Validation is a well-known technique to fairly evaluate the performance of a model. The idea is to split the dataset into `K` folds, train the model on `K-1` folds, and test it on the remaining fold. This process is repeated `K` times, each time with a different test fold. The final performance is calculated as the average of the performance of the model on each test fold.\n",
        "\n",
        "The `k_fold` function given below will split the dataset indices into `K` folds. It will generate two lists: one containing the training indices and the other containing the test indices for each fold."
      ]
    },
    {
      "cell_type": "code",
      "execution_count": 44,
      "metadata": {
        "id": "dD33SSmmI3ev"
      },
      "outputs": [],
      "source": [
        "from sklearn.model_selection import KFold\n",
        "\n",
        "def k_fold(data, folds):\n",
        "    '''\n",
        "    `k_fold`: A function to split the data into `folds` folds using KFold\n",
        "        - `data`: PyG Data object\n",
        "        - `folds`: The number of folds to split the data into\n",
        "    '''\n",
        "    kf = KFold(n_splits=folds, shuffle=True, random_state=SEED)\n",
        "    # Store indices of train and test data for each fold\n",
        "    train_indices = []\n",
        "    test_indices = []\n",
        "    for i, (train_index, test_index) in enumerate(kf.split(data.y)):\n",
        "        train_indices.append(train_index)\n",
        "        test_indices.append(test_index)\n",
        "    return train_indices, test_indices"
      ]
    },
    {
      "cell_type": "markdown",
      "metadata": {
        "id": "AlguHgLaI3ev"
      },
      "source": [
        "### Training Loop\n"
      ]
    },
    {
      "cell_type": "code",
      "execution_count": 66,
      "metadata": {
        "id": "6dsg-H9BI3ew"
      },
      "outputs": [],
      "source": [
        "def train_k_fold(data, folds=10, epochs=100, hidden_channels=16, dropout=0.5,\n",
        "                 activation=F.relu, lr=0.01, weight_decay=5e-4, layer='gcn', heads=8):\n",
        "    '''\n",
        "    `train_k_fold`: A function to train the model using KFold cross validation\n",
        "        - `data`: PyG Data object\n",
        "        - `folds`: The number of folds to split the data into\n",
        "        - `epochs`: The number of epochs to train the model\n",
        "        - `hidden_channels`: The number of hidden channels in the GCN layers\n",
        "        - `dropout`: The dropout probability\n",
        "        - `activation`: The activation function to use (e.g., `torch.nn.functional.relu`)\n",
        "        - `lr`: The learning rate\n",
        "        - `weight_decay`: The weight decay\n",
        "        - `layer`: The type of layer to use (e.g., `gcn`, `gat`, `gatv2`)\n",
        "        - `heads`: The number of attention heads (only for GAT and GATv2)\n",
        "    '''\n",
        "\n",
        "    # Split the data into folds\n",
        "    train_indices, test_indices = k_fold(data, folds)\n",
        "\n",
        "    # Store the results of each fold\n",
        "    results = {'acc': [], 'f1': [], 'loss': []}\n",
        "    predictions = []\n",
        "    for i in range(folds):\n",
        "        print(f\"Fold {i + 1}/{folds}\")\n",
        "        # Create the model\n",
        "        if layer == 'gcn':\n",
        "            model = GCN(hidden_channels, dropout, activation).to(device)\n",
        "        elif layer == 'gat':\n",
        "            model = GAT(hidden_channels, dropout, activation, heads).to(device)\n",
        "        elif layer =='gatv2':\n",
        "            model = GATv2(hidden_channels, dropout, activation, heads).to(device)\n",
        "        optimizer = torch.optim.Adam(model.parameters(), lr=lr, weight_decay=weight_decay)\n",
        "\n",
        "        # Set the train and test masks for the current fold\n",
        "        data.train_mask = torch.zeros(data.num_nodes, dtype=torch.bool)\n",
        "        data.test_mask = torch.zeros(data.num_nodes, dtype=torch.bool)\n",
        "        data.train_mask[train_indices[i]] = 1\n",
        "        data.test_mask[test_indices[i]] = 1\n",
        "\n",
        "        # Train the model\n",
        "        for epoch in range(epochs):\n",
        "            loss = train(model, optimizer, data)\n",
        "            if epoch % 100 == 0:\n",
        "                print(f\"Epoch {epoch + 1}/{epochs} | Loss: {loss:.4f}\")\n",
        "\n",
        "        # Evaluate the model\n",
        "        pred, acc, f1 = evaluate(model, data)\n",
        "        print(f\"Accuracy: {acc:.4f} | F1: {f1:.4f} | Loss: {loss:.4f}\")\n",
        "        print('-'*70)\n",
        "        results['acc'].append(acc)\n",
        "        results['f1'].append(f1)\n",
        "        predictions.append(pred)\n",
        "\n",
        "    print('Overall results:')\n",
        "    print(f\"Average accuracy: {np.mean(results['acc']):.4f}\")\n",
        "    print(f\"Average F1: {np.mean(results['f1']):.4f}\")\n",
        "\n",
        "    test_indices = np.concatenate(test_indices)\n",
        "    predictions = np.concatenate(predictions)\n",
        "    return test_indices, predictions"
      ]
    },
    {
      "cell_type": "markdown",
      "metadata": {
        "id": "iQKYB0h8I3ew"
      },
      "source": [
        "## Run\n",
        "\n",
        "Now, we make a `Runner` class which helps us to set up the hyperparameters and run the training process. We will use this class to run the training process for different models and hyperparameters. This class has a `run` method that will call the `train_k_fold` method and returns the predictions."
      ]
    },
    {
      "cell_type": "code",
      "execution_count": 67,
      "metadata": {
        "id": "KZv2YtLwI3ew"
      },
      "outputs": [],
      "source": [
        "class Runner:\n",
        "    '''\n",
        "    `Runner`: A class to run the training process\n",
        "    '''\n",
        "\n",
        "    def __init__(self, folds: int=10, epochs: int=100, hidden_channels: int=16, dropout: float=0.5,\n",
        "                    activation: str='relu', lr: float=0.01, weight_decay: float=5e-4,\n",
        "                    layer: str='gcn', heads: int=8):\n",
        "        # Set the number of folds for KFold cross validation\n",
        "        self.folds = folds\n",
        "        # Set the number of epochs to train the model\n",
        "        self.epochs = epochs\n",
        "        # Set the number of hidden channels in the GCN/GAT layers\n",
        "        self.hidden_channels = hidden_channels\n",
        "        # Set the dropout probability for the output of the first layer\n",
        "        self.dropout = dropout\n",
        "        # Set the activation function with the pytorch implementation\n",
        "        self.activation = None\n",
        "        activation = activation.lower()\n",
        "        if activation == 'relu':\n",
        "            self.activation = F.relu\n",
        "        elif activation == 'selu':\n",
        "            self.activation = F.selu\n",
        "        elif activation == 'elu':\n",
        "            self.activation = F.elu\n",
        "        elif activation == 'leaky_relu':\n",
        "            self.activation = F.leaky_relu\n",
        "        elif activation == 'prelu':\n",
        "            self.activation = F.prelu\n",
        "        else:\n",
        "            raise ValueError(f\"Activation function {activation} is not supported\")\n",
        "        # Set the learning rate for the optimizer\n",
        "        self.lr = lr\n",
        "        # Set the weight decay for the optimizer\n",
        "        self.weight_decay = weight_decay\n",
        "        # Set the layer type\n",
        "        self.layer = layer.lower()\n",
        "        if self.layer not in ['gcn', 'gat', 'gatv2']:\n",
        "            raise ValueError(f\"Layer type {self.layer} is not supported\")\n",
        "        self.heads = heads\n",
        "\n",
        "    def run(self):\n",
        "        test_indices, predictions = train_k_fold(data, self.folds, self.epochs, self.hidden_channels,\n",
        "                                                 self.dropout, self.activation, self.lr, self.weight_decay,\n",
        "                                                 self.layer, self.heads)\n",
        "        return test_indices, predictions"
      ]
    },
    {
      "cell_type": "markdown",
      "metadata": {
        "id": "7eNFfTODI3ew"
      },
      "source": [
        "### Experiment: GCN\n",
        "\n",
        "We will run the training process for the GCN model and evaluate its performance."
      ]
    },
    {
      "cell_type": "code",
      "execution_count": 75,
      "metadata": {
        "colab": {
          "base_uri": "https://localhost:8080/"
        },
        "id": "_29YoGPDI3ex",
        "outputId": "afe76a5a-58f8-4c3e-c44b-d09802289479"
      },
      "outputs": [
        {
          "output_type": "stream",
          "name": "stdout",
          "text": [
            "Fold 1/10\n",
            "Epoch 1/1000 | Loss: 1.9468\n",
            "Epoch 101/1000 | Loss: 0.9806\n",
            "Epoch 201/1000 | Loss: 0.7249\n",
            "Epoch 301/1000 | Loss: 0.5984\n",
            "Epoch 401/1000 | Loss: 0.6011\n",
            "Epoch 501/1000 | Loss: 0.5397\n",
            "Epoch 601/1000 | Loss: 0.5366\n",
            "Epoch 701/1000 | Loss: 0.5238\n",
            "Epoch 801/1000 | Loss: 0.5361\n",
            "Epoch 901/1000 | Loss: 0.5158\n",
            "Accuracy: 0.9004 | F1: 0.9004 | Loss: 0.4790\n",
            "----------------------------------------------------------------------\n",
            "Fold 2/10\n",
            "Epoch 1/1000 | Loss: 1.9453\n",
            "Epoch 101/1000 | Loss: 0.9518\n",
            "Epoch 201/1000 | Loss: 0.6522\n",
            "Epoch 301/1000 | Loss: 0.5586\n",
            "Epoch 401/1000 | Loss: 0.5178\n",
            "Epoch 501/1000 | Loss: 0.5021\n",
            "Epoch 601/1000 | Loss: 0.5180\n",
            "Epoch 701/1000 | Loss: 0.5013\n",
            "Epoch 801/1000 | Loss: 0.4714\n",
            "Epoch 901/1000 | Loss: 0.4720\n",
            "Accuracy: 0.8745 | F1: 0.8745 | Loss: 0.4703\n",
            "----------------------------------------------------------------------\n",
            "Fold 3/10\n",
            "Epoch 1/1000 | Loss: 1.9462\n",
            "Epoch 101/1000 | Loss: 0.9612\n",
            "Epoch 201/1000 | Loss: 0.6802\n",
            "Epoch 301/1000 | Loss: 0.5883\n",
            "Epoch 401/1000 | Loss: 0.5597\n",
            "Epoch 501/1000 | Loss: 0.5239\n",
            "Epoch 601/1000 | Loss: 0.5306\n",
            "Epoch 701/1000 | Loss: 0.4883\n",
            "Epoch 801/1000 | Loss: 0.4764\n",
            "Epoch 901/1000 | Loss: 0.4793\n",
            "Accuracy: 0.8893 | F1: 0.8893 | Loss: 0.5051\n",
            "----------------------------------------------------------------------\n",
            "Fold 4/10\n",
            "Epoch 1/1000 | Loss: 1.9460\n",
            "Epoch 101/1000 | Loss: 1.0442\n",
            "Epoch 201/1000 | Loss: 0.7381\n",
            "Epoch 301/1000 | Loss: 0.6459\n",
            "Epoch 401/1000 | Loss: 0.5796\n",
            "Epoch 501/1000 | Loss: 0.5550\n",
            "Epoch 601/1000 | Loss: 0.5422\n",
            "Epoch 701/1000 | Loss: 0.5018\n",
            "Epoch 801/1000 | Loss: 0.5226\n",
            "Epoch 901/1000 | Loss: 0.5065\n",
            "Accuracy: 0.8782 | F1: 0.8782 | Loss: 0.5058\n",
            "----------------------------------------------------------------------\n",
            "Fold 5/10\n",
            "Epoch 1/1000 | Loss: 1.9454\n",
            "Epoch 101/1000 | Loss: 0.9902\n",
            "Epoch 201/1000 | Loss: 0.6988\n",
            "Epoch 301/1000 | Loss: 0.5918\n",
            "Epoch 401/1000 | Loss: 0.5460\n",
            "Epoch 501/1000 | Loss: 0.5377\n",
            "Epoch 601/1000 | Loss: 0.5059\n",
            "Epoch 701/1000 | Loss: 0.5081\n",
            "Epoch 801/1000 | Loss: 0.4887\n",
            "Epoch 901/1000 | Loss: 0.4857\n",
            "Accuracy: 0.8708 | F1: 0.8708 | Loss: 0.4743\n",
            "----------------------------------------------------------------------\n",
            "Fold 6/10\n",
            "Epoch 1/1000 | Loss: 1.9475\n",
            "Epoch 101/1000 | Loss: 1.2634\n",
            "Epoch 201/1000 | Loss: 0.9370\n",
            "Epoch 301/1000 | Loss: 0.8403\n",
            "Epoch 401/1000 | Loss: 0.7824\n",
            "Epoch 501/1000 | Loss: 0.7062\n",
            "Epoch 601/1000 | Loss: 0.6927\n",
            "Epoch 701/1000 | Loss: 0.6262\n",
            "Epoch 801/1000 | Loss: 0.6298\n",
            "Epoch 901/1000 | Loss: 0.6187\n",
            "Accuracy: 0.8819 | F1: 0.8819 | Loss: 0.5915\n",
            "----------------------------------------------------------------------\n",
            "Fold 7/10\n",
            "Epoch 1/1000 | Loss: 1.9452\n",
            "Epoch 101/1000 | Loss: 1.0056\n",
            "Epoch 201/1000 | Loss: 0.7193\n",
            "Epoch 301/1000 | Loss: 0.6352\n",
            "Epoch 401/1000 | Loss: 0.5620\n",
            "Epoch 501/1000 | Loss: 0.5414\n",
            "Epoch 601/1000 | Loss: 0.5213\n",
            "Epoch 701/1000 | Loss: 0.4994\n",
            "Epoch 801/1000 | Loss: 0.5031\n",
            "Epoch 901/1000 | Loss: 0.4758\n",
            "Accuracy: 0.8856 | F1: 0.8856 | Loss: 0.4903\n",
            "----------------------------------------------------------------------\n",
            "Fold 8/10\n",
            "Epoch 1/1000 | Loss: 1.9453\n",
            "Epoch 101/1000 | Loss: 0.9232\n",
            "Epoch 201/1000 | Loss: 0.6572\n",
            "Epoch 301/1000 | Loss: 0.5696\n",
            "Epoch 401/1000 | Loss: 0.5333\n",
            "Epoch 501/1000 | Loss: 0.5000\n",
            "Epoch 601/1000 | Loss: 0.5106\n",
            "Epoch 701/1000 | Loss: 0.4875\n",
            "Epoch 801/1000 | Loss: 0.4822\n",
            "Epoch 901/1000 | Loss: 0.4824\n",
            "Accuracy: 0.8930 | F1: 0.8930 | Loss: 0.4790\n",
            "----------------------------------------------------------------------\n",
            "Fold 9/10\n",
            "Epoch 1/1000 | Loss: 1.9464\n",
            "Epoch 101/1000 | Loss: 1.0893\n",
            "Epoch 201/1000 | Loss: 0.8085\n",
            "Epoch 301/1000 | Loss: 0.6746\n",
            "Epoch 401/1000 | Loss: 0.6519\n",
            "Epoch 501/1000 | Loss: 0.6488\n",
            "Epoch 601/1000 | Loss: 0.6130\n",
            "Epoch 701/1000 | Loss: 0.5906\n",
            "Epoch 801/1000 | Loss: 0.5773\n",
            "Epoch 901/1000 | Loss: 0.5442\n",
            "Accuracy: 0.8741 | F1: 0.8741 | Loss: 0.5425\n",
            "----------------------------------------------------------------------\n",
            "Fold 10/10\n",
            "Epoch 1/1000 | Loss: 1.9460\n",
            "Epoch 101/1000 | Loss: 0.9887\n",
            "Epoch 201/1000 | Loss: 0.7180\n",
            "Epoch 301/1000 | Loss: 0.6159\n",
            "Epoch 401/1000 | Loss: 0.5564\n",
            "Epoch 501/1000 | Loss: 0.5449\n",
            "Epoch 601/1000 | Loss: 0.5360\n",
            "Epoch 701/1000 | Loss: 0.5054\n",
            "Epoch 801/1000 | Loss: 0.5030\n",
            "Epoch 901/1000 | Loss: 0.4956\n",
            "Accuracy: 0.9259 | F1: 0.9259 | Loss: 0.4992\n",
            "----------------------------------------------------------------------\n",
            "Overall results:\n",
            "Average accuracy: 0.8874\n",
            "Average F1: 0.8874\n"
          ]
        }
      ],
      "source": [
        "runner = Runner(folds=10, epochs=1000, hidden_channels=16, dropout=0.5,\n",
        "                activation='relu', lr=0.01, weight_decay=5e-4, layer='gcn')\n",
        "predictions = runner.run()"
      ]
    },
    {
      "cell_type": "markdown",
      "metadata": {
        "id": "AlwOcyRiI3ex"
      },
      "source": [
        "Now, we will save the predictions of the GCN model on the test set to a file (`results_gcn.tsv`).\n",
        "\n",
        "**Note:** As we are using the K-Fold Cross-Validation technique, we will concatenate the predictions of all the folds test sets to produce the predictions on the whole graph."
      ]
    },
    {
      "cell_type": "code",
      "execution_count": 76,
      "metadata": {
        "id": "zehx6GhHI3ex"
      },
      "outputs": [],
      "source": [
        "def final_predictions(predictions: tuple) -> pd.DataFrame:\n",
        "    '''\n",
        "    `final_predictions`: A function to convert the predictions to a DataFrame with the original node IDs and labels\n",
        "        - `predictions`: A tuple containing the test indices and the predictions\n",
        "    '''\n",
        "    # Unpack the predictions\n",
        "    test_indices, preds = predictions\n",
        "    # Convert the predictions to the original node IDs\n",
        "    preds = [id_to_label[pred] for pred in preds]\n",
        "    # Convert the test indices to the original node IDs\n",
        "    test_indices = [idx_to_id[idx] for idx in test_indices]\n",
        "    # Store the results in a DataFrame\n",
        "    results = pd.DataFrame({'Node ID': test_indices, 'Prediction': preds})\n",
        "    return results"
      ]
    },
    {
      "cell_type": "code",
      "source": [
        "test_indices, preds = predictions"
      ],
      "metadata": {
        "id": "UNJpk5bOLqgx"
      },
      "execution_count": 77,
      "outputs": []
    },
    {
      "cell_type": "code",
      "execution_count": 78,
      "metadata": {
        "colab": {
          "base_uri": "https://localhost:8080/",
          "height": 206
        },
        "id": "2JfegvIpI3ex",
        "outputId": "24f116f6-a6ec-4084-df06-96b031c18a1b"
      },
      "outputs": [
        {
          "output_type": "execute_result",
          "data": {
            "text/plain": [
              "   Node ID              Prediction\n",
              "0  1106492                  Theory\n",
              "1   100701              Case_Based\n",
              "2   237521         Neural_Networks\n",
              "3  1153703                  Theory\n",
              "4    32872  Reinforcement_Learning"
            ],
            "text/html": [
              "\n",
              "  <div id=\"df-838b17b0-5285-4ea3-a172-612a8de7626d\" class=\"colab-df-container\">\n",
              "    <div>\n",
              "<style scoped>\n",
              "    .dataframe tbody tr th:only-of-type {\n",
              "        vertical-align: middle;\n",
              "    }\n",
              "\n",
              "    .dataframe tbody tr th {\n",
              "        vertical-align: top;\n",
              "    }\n",
              "\n",
              "    .dataframe thead th {\n",
              "        text-align: right;\n",
              "    }\n",
              "</style>\n",
              "<table border=\"1\" class=\"dataframe\">\n",
              "  <thead>\n",
              "    <tr style=\"text-align: right;\">\n",
              "      <th></th>\n",
              "      <th>Node ID</th>\n",
              "      <th>Prediction</th>\n",
              "    </tr>\n",
              "  </thead>\n",
              "  <tbody>\n",
              "    <tr>\n",
              "      <th>0</th>\n",
              "      <td>1106492</td>\n",
              "      <td>Theory</td>\n",
              "    </tr>\n",
              "    <tr>\n",
              "      <th>1</th>\n",
              "      <td>100701</td>\n",
              "      <td>Case_Based</td>\n",
              "    </tr>\n",
              "    <tr>\n",
              "      <th>2</th>\n",
              "      <td>237521</td>\n",
              "      <td>Neural_Networks</td>\n",
              "    </tr>\n",
              "    <tr>\n",
              "      <th>3</th>\n",
              "      <td>1153703</td>\n",
              "      <td>Theory</td>\n",
              "    </tr>\n",
              "    <tr>\n",
              "      <th>4</th>\n",
              "      <td>32872</td>\n",
              "      <td>Reinforcement_Learning</td>\n",
              "    </tr>\n",
              "  </tbody>\n",
              "</table>\n",
              "</div>\n",
              "    <div class=\"colab-df-buttons\">\n",
              "\n",
              "  <div class=\"colab-df-container\">\n",
              "    <button class=\"colab-df-convert\" onclick=\"convertToInteractive('df-838b17b0-5285-4ea3-a172-612a8de7626d')\"\n",
              "            title=\"Convert this dataframe to an interactive table.\"\n",
              "            style=\"display:none;\">\n",
              "\n",
              "  <svg xmlns=\"http://www.w3.org/2000/svg\" height=\"24px\" viewBox=\"0 -960 960 960\">\n",
              "    <path d=\"M120-120v-720h720v720H120Zm60-500h600v-160H180v160Zm220 220h160v-160H400v160Zm0 220h160v-160H400v160ZM180-400h160v-160H180v160Zm440 0h160v-160H620v160ZM180-180h160v-160H180v160Zm440 0h160v-160H620v160Z\"/>\n",
              "  </svg>\n",
              "    </button>\n",
              "\n",
              "  <style>\n",
              "    .colab-df-container {\n",
              "      display:flex;\n",
              "      gap: 12px;\n",
              "    }\n",
              "\n",
              "    .colab-df-convert {\n",
              "      background-color: #E8F0FE;\n",
              "      border: none;\n",
              "      border-radius: 50%;\n",
              "      cursor: pointer;\n",
              "      display: none;\n",
              "      fill: #1967D2;\n",
              "      height: 32px;\n",
              "      padding: 0 0 0 0;\n",
              "      width: 32px;\n",
              "    }\n",
              "\n",
              "    .colab-df-convert:hover {\n",
              "      background-color: #E2EBFA;\n",
              "      box-shadow: 0px 1px 2px rgba(60, 64, 67, 0.3), 0px 1px 3px 1px rgba(60, 64, 67, 0.15);\n",
              "      fill: #174EA6;\n",
              "    }\n",
              "\n",
              "    .colab-df-buttons div {\n",
              "      margin-bottom: 4px;\n",
              "    }\n",
              "\n",
              "    [theme=dark] .colab-df-convert {\n",
              "      background-color: #3B4455;\n",
              "      fill: #D2E3FC;\n",
              "    }\n",
              "\n",
              "    [theme=dark] .colab-df-convert:hover {\n",
              "      background-color: #434B5C;\n",
              "      box-shadow: 0px 1px 3px 1px rgba(0, 0, 0, 0.15);\n",
              "      filter: drop-shadow(0px 1px 2px rgba(0, 0, 0, 0.3));\n",
              "      fill: #FFFFFF;\n",
              "    }\n",
              "  </style>\n",
              "\n",
              "    <script>\n",
              "      const buttonEl =\n",
              "        document.querySelector('#df-838b17b0-5285-4ea3-a172-612a8de7626d button.colab-df-convert');\n",
              "      buttonEl.style.display =\n",
              "        google.colab.kernel.accessAllowed ? 'block' : 'none';\n",
              "\n",
              "      async function convertToInteractive(key) {\n",
              "        const element = document.querySelector('#df-838b17b0-5285-4ea3-a172-612a8de7626d');\n",
              "        const dataTable =\n",
              "          await google.colab.kernel.invokeFunction('convertToInteractive',\n",
              "                                                    [key], {});\n",
              "        if (!dataTable) return;\n",
              "\n",
              "        const docLinkHtml = 'Like what you see? Visit the ' +\n",
              "          '<a target=\"_blank\" href=https://colab.research.google.com/notebooks/data_table.ipynb>data table notebook</a>'\n",
              "          + ' to learn more about interactive tables.';\n",
              "        element.innerHTML = '';\n",
              "        dataTable['output_type'] = 'display_data';\n",
              "        await google.colab.output.renderOutput(dataTable, element);\n",
              "        const docLink = document.createElement('div');\n",
              "        docLink.innerHTML = docLinkHtml;\n",
              "        element.appendChild(docLink);\n",
              "      }\n",
              "    </script>\n",
              "  </div>\n",
              "\n",
              "\n",
              "<div id=\"df-d5202f74-e75f-49b3-852b-fb98e0597f33\">\n",
              "  <button class=\"colab-df-quickchart\" onclick=\"quickchart('df-d5202f74-e75f-49b3-852b-fb98e0597f33')\"\n",
              "            title=\"Suggest charts\"\n",
              "            style=\"display:none;\">\n",
              "\n",
              "<svg xmlns=\"http://www.w3.org/2000/svg\" height=\"24px\"viewBox=\"0 0 24 24\"\n",
              "     width=\"24px\">\n",
              "    <g>\n",
              "        <path d=\"M19 3H5c-1.1 0-2 .9-2 2v14c0 1.1.9 2 2 2h14c1.1 0 2-.9 2-2V5c0-1.1-.9-2-2-2zM9 17H7v-7h2v7zm4 0h-2V7h2v10zm4 0h-2v-4h2v4z\"/>\n",
              "    </g>\n",
              "</svg>\n",
              "  </button>\n",
              "\n",
              "<style>\n",
              "  .colab-df-quickchart {\n",
              "      --bg-color: #E8F0FE;\n",
              "      --fill-color: #1967D2;\n",
              "      --hover-bg-color: #E2EBFA;\n",
              "      --hover-fill-color: #174EA6;\n",
              "      --disabled-fill-color: #AAA;\n",
              "      --disabled-bg-color: #DDD;\n",
              "  }\n",
              "\n",
              "  [theme=dark] .colab-df-quickchart {\n",
              "      --bg-color: #3B4455;\n",
              "      --fill-color: #D2E3FC;\n",
              "      --hover-bg-color: #434B5C;\n",
              "      --hover-fill-color: #FFFFFF;\n",
              "      --disabled-bg-color: #3B4455;\n",
              "      --disabled-fill-color: #666;\n",
              "  }\n",
              "\n",
              "  .colab-df-quickchart {\n",
              "    background-color: var(--bg-color);\n",
              "    border: none;\n",
              "    border-radius: 50%;\n",
              "    cursor: pointer;\n",
              "    display: none;\n",
              "    fill: var(--fill-color);\n",
              "    height: 32px;\n",
              "    padding: 0;\n",
              "    width: 32px;\n",
              "  }\n",
              "\n",
              "  .colab-df-quickchart:hover {\n",
              "    background-color: var(--hover-bg-color);\n",
              "    box-shadow: 0 1px 2px rgba(60, 64, 67, 0.3), 0 1px 3px 1px rgba(60, 64, 67, 0.15);\n",
              "    fill: var(--button-hover-fill-color);\n",
              "  }\n",
              "\n",
              "  .colab-df-quickchart-complete:disabled,\n",
              "  .colab-df-quickchart-complete:disabled:hover {\n",
              "    background-color: var(--disabled-bg-color);\n",
              "    fill: var(--disabled-fill-color);\n",
              "    box-shadow: none;\n",
              "  }\n",
              "\n",
              "  .colab-df-spinner {\n",
              "    border: 2px solid var(--fill-color);\n",
              "    border-color: transparent;\n",
              "    border-bottom-color: var(--fill-color);\n",
              "    animation:\n",
              "      spin 1s steps(1) infinite;\n",
              "  }\n",
              "\n",
              "  @keyframes spin {\n",
              "    0% {\n",
              "      border-color: transparent;\n",
              "      border-bottom-color: var(--fill-color);\n",
              "      border-left-color: var(--fill-color);\n",
              "    }\n",
              "    20% {\n",
              "      border-color: transparent;\n",
              "      border-left-color: var(--fill-color);\n",
              "      border-top-color: var(--fill-color);\n",
              "    }\n",
              "    30% {\n",
              "      border-color: transparent;\n",
              "      border-left-color: var(--fill-color);\n",
              "      border-top-color: var(--fill-color);\n",
              "      border-right-color: var(--fill-color);\n",
              "    }\n",
              "    40% {\n",
              "      border-color: transparent;\n",
              "      border-right-color: var(--fill-color);\n",
              "      border-top-color: var(--fill-color);\n",
              "    }\n",
              "    60% {\n",
              "      border-color: transparent;\n",
              "      border-right-color: var(--fill-color);\n",
              "    }\n",
              "    80% {\n",
              "      border-color: transparent;\n",
              "      border-right-color: var(--fill-color);\n",
              "      border-bottom-color: var(--fill-color);\n",
              "    }\n",
              "    90% {\n",
              "      border-color: transparent;\n",
              "      border-bottom-color: var(--fill-color);\n",
              "    }\n",
              "  }\n",
              "</style>\n",
              "\n",
              "  <script>\n",
              "    async function quickchart(key) {\n",
              "      const quickchartButtonEl =\n",
              "        document.querySelector('#' + key + ' button');\n",
              "      quickchartButtonEl.disabled = true;  // To prevent multiple clicks.\n",
              "      quickchartButtonEl.classList.add('colab-df-spinner');\n",
              "      try {\n",
              "        const charts = await google.colab.kernel.invokeFunction(\n",
              "            'suggestCharts', [key], {});\n",
              "      } catch (error) {\n",
              "        console.error('Error during call to suggestCharts:', error);\n",
              "      }\n",
              "      quickchartButtonEl.classList.remove('colab-df-spinner');\n",
              "      quickchartButtonEl.classList.add('colab-df-quickchart-complete');\n",
              "    }\n",
              "    (() => {\n",
              "      let quickchartButtonEl =\n",
              "        document.querySelector('#df-d5202f74-e75f-49b3-852b-fb98e0597f33 button');\n",
              "      quickchartButtonEl.style.display =\n",
              "        google.colab.kernel.accessAllowed ? 'block' : 'none';\n",
              "    })();\n",
              "  </script>\n",
              "</div>\n",
              "    </div>\n",
              "  </div>\n"
            ],
            "application/vnd.google.colaboratory.intrinsic+json": {
              "type": "dataframe",
              "variable_name": "results_gcn",
              "summary": "{\n  \"name\": \"results_gcn\",\n  \"rows\": 2708,\n  \"fields\": [\n    {\n      \"column\": \"Node ID\",\n      \"properties\": {\n        \"dtype\": \"number\",\n        \"std\": 459622,\n        \"min\": 35,\n        \"max\": 1155073,\n        \"num_unique_values\": 2708,\n        \"samples\": [\n          1130847,\n          1126044,\n          229635\n        ],\n        \"semantic_type\": \"\",\n        \"description\": \"\"\n      }\n    },\n    {\n      \"column\": \"Prediction\",\n      \"properties\": {\n        \"dtype\": \"category\",\n        \"num_unique_values\": 7,\n        \"samples\": [\n          \"Theory\",\n          \"Case_Based\",\n          \"Genetic_Algorithms\"\n        ],\n        \"semantic_type\": \"\",\n        \"description\": \"\"\n      }\n    }\n  ]\n}"
            }
          },
          "metadata": {},
          "execution_count": 78
        }
      ],
      "source": [
        "results_gcn = final_predictions(predictions)\n",
        "results_gcn.head()"
      ]
    },
    {
      "cell_type": "code",
      "source": [
        "merged = pd.merge(df, results_gcn, on='Node ID')\n",
        "acc = accuracy_score(merged['Label'], merged['Prediction'])\n",
        "print(f\"Accuracy: {acc:.4f}\")"
      ],
      "metadata": {
        "colab": {
          "base_uri": "https://localhost:8080/"
        },
        "id": "czQdRhJcNLJT",
        "outputId": "24a3199b-88e9-4115-bd7a-c12f2dced950"
      },
      "execution_count": 79,
      "outputs": [
        {
          "output_type": "stream",
          "name": "stdout",
          "text": [
            "Accuracy: 0.8874\n"
          ]
        }
      ]
    },
    {
      "cell_type": "code",
      "execution_count": 80,
      "metadata": {
        "id": "NiMSwKWZI3ex"
      },
      "outputs": [],
      "source": [
        "# Save the results to a TSV file\n",
        "results_gcn.to_csv('results_gcn.tsv', sep='\\t', index=False)"
      ]
    },
    {
      "cell_type": "markdown",
      "metadata": {
        "id": "A_1fNj7LI3ey"
      },
      "source": [
        "### Experiment: GAT\n",
        "\n",
        "We will run the training process for the GAT model and evaluate its performance."
      ]
    },
    {
      "cell_type": "code",
      "execution_count": 74,
      "metadata": {
        "colab": {
          "base_uri": "https://localhost:8080/"
        },
        "id": "uBHJ6mD2I3ey",
        "outputId": "e9c1c502-6e4b-4539-a8a8-1a8180d6215c"
      },
      "outputs": [
        {
          "output_type": "stream",
          "name": "stdout",
          "text": [
            "Fold 1/10\n",
            "Epoch 1/1000 | Loss: 1.9461\n",
            "Epoch 101/1000 | Loss: 0.7616\n",
            "Epoch 201/1000 | Loss: 0.6806\n",
            "Epoch 301/1000 | Loss: 0.6637\n",
            "Epoch 401/1000 | Loss: 0.6240\n",
            "Epoch 501/1000 | Loss: 0.6365\n",
            "Epoch 601/1000 | Loss: 0.6538\n",
            "Epoch 701/1000 | Loss: 0.6366\n",
            "Epoch 801/1000 | Loss: 0.6479\n",
            "Epoch 901/1000 | Loss: 0.6545\n",
            "Accuracy: 0.9004 | F1: 0.9004 | Loss: 0.6327\n",
            "----------------------------------------------------------------------\n",
            "Fold 2/10\n",
            "Epoch 1/1000 | Loss: 1.9469\n",
            "Epoch 101/1000 | Loss: 0.7595\n",
            "Epoch 201/1000 | Loss: 0.6624\n",
            "Epoch 301/1000 | Loss: 0.6547\n",
            "Epoch 401/1000 | Loss: 0.6546\n",
            "Epoch 501/1000 | Loss: 0.6391\n",
            "Epoch 601/1000 | Loss: 0.6387\n",
            "Epoch 701/1000 | Loss: 0.6433\n",
            "Epoch 801/1000 | Loss: 0.6418\n",
            "Epoch 901/1000 | Loss: 0.6248\n",
            "Accuracy: 0.8524 | F1: 0.8524 | Loss: 0.6390\n",
            "----------------------------------------------------------------------\n",
            "Fold 3/10\n",
            "Epoch 1/1000 | Loss: 1.9468\n",
            "Epoch 101/1000 | Loss: 0.7131\n",
            "Epoch 201/1000 | Loss: 0.6750\n",
            "Epoch 301/1000 | Loss: 0.6578\n",
            "Epoch 401/1000 | Loss: 0.6332\n",
            "Epoch 501/1000 | Loss: 0.6429\n",
            "Epoch 601/1000 | Loss: 0.6241\n",
            "Epoch 701/1000 | Loss: 0.6418\n",
            "Epoch 801/1000 | Loss: 0.6348\n",
            "Epoch 901/1000 | Loss: 0.6525\n",
            "Accuracy: 0.8893 | F1: 0.8893 | Loss: 0.6295\n",
            "----------------------------------------------------------------------\n",
            "Fold 4/10\n",
            "Epoch 1/1000 | Loss: 1.9458\n",
            "Epoch 101/1000 | Loss: 0.7285\n",
            "Epoch 201/1000 | Loss: 0.6616\n",
            "Epoch 301/1000 | Loss: 0.6543\n",
            "Epoch 401/1000 | Loss: 0.6466\n",
            "Epoch 501/1000 | Loss: 0.6541\n",
            "Epoch 601/1000 | Loss: 0.6263\n",
            "Epoch 701/1000 | Loss: 0.6358\n",
            "Epoch 801/1000 | Loss: 0.6251\n",
            "Epoch 901/1000 | Loss: 0.6444\n",
            "Accuracy: 0.8893 | F1: 0.8893 | Loss: 0.6475\n",
            "----------------------------------------------------------------------\n",
            "Fold 5/10\n",
            "Epoch 1/1000 | Loss: 1.9459\n",
            "Epoch 101/1000 | Loss: 0.7415\n",
            "Epoch 201/1000 | Loss: 0.6447\n",
            "Epoch 301/1000 | Loss: 0.6383\n",
            "Epoch 401/1000 | Loss: 0.6243\n",
            "Epoch 501/1000 | Loss: 0.6322\n",
            "Epoch 601/1000 | Loss: 0.6182\n",
            "Epoch 701/1000 | Loss: 0.6229\n",
            "Epoch 801/1000 | Loss: 0.6360\n",
            "Epoch 901/1000 | Loss: 0.6440\n",
            "Accuracy: 0.8819 | F1: 0.8819 | Loss: 0.6191\n",
            "----------------------------------------------------------------------\n",
            "Fold 6/10\n",
            "Epoch 1/1000 | Loss: 1.9461\n",
            "Epoch 101/1000 | Loss: 0.7127\n",
            "Epoch 201/1000 | Loss: 0.6659\n",
            "Epoch 301/1000 | Loss: 0.6449\n",
            "Epoch 401/1000 | Loss: 0.6248\n",
            "Epoch 501/1000 | Loss: 0.6414\n",
            "Epoch 601/1000 | Loss: 0.6190\n",
            "Epoch 701/1000 | Loss: 0.6340\n",
            "Epoch 801/1000 | Loss: 0.6286\n",
            "Epoch 901/1000 | Loss: 0.6298\n",
            "Accuracy: 0.8782 | F1: 0.8782 | Loss: 0.6176\n",
            "----------------------------------------------------------------------\n",
            "Fold 7/10\n",
            "Epoch 1/1000 | Loss: 1.9456\n",
            "Epoch 101/1000 | Loss: 0.7006\n",
            "Epoch 201/1000 | Loss: 0.6748\n",
            "Epoch 301/1000 | Loss: 0.6259\n",
            "Epoch 401/1000 | Loss: 0.6334\n",
            "Epoch 501/1000 | Loss: 0.6297\n",
            "Epoch 601/1000 | Loss: 0.6186\n",
            "Epoch 701/1000 | Loss: 0.6451\n",
            "Epoch 801/1000 | Loss: 0.6294\n",
            "Epoch 901/1000 | Loss: 0.6263\n",
            "Accuracy: 0.8782 | F1: 0.8782 | Loss: 0.6451\n",
            "----------------------------------------------------------------------\n",
            "Fold 8/10\n",
            "Epoch 1/1000 | Loss: 1.9448\n",
            "Epoch 101/1000 | Loss: 0.7381\n",
            "Epoch 201/1000 | Loss: 0.6660\n",
            "Epoch 301/1000 | Loss: 0.6547\n",
            "Epoch 401/1000 | Loss: 0.6332\n",
            "Epoch 501/1000 | Loss: 0.6190\n",
            "Epoch 601/1000 | Loss: 0.6692\n",
            "Epoch 701/1000 | Loss: 0.6348\n",
            "Epoch 801/1000 | Loss: 0.6126\n",
            "Epoch 901/1000 | Loss: 0.6268\n",
            "Accuracy: 0.9004 | F1: 0.9004 | Loss: 0.6341\n",
            "----------------------------------------------------------------------\n",
            "Fold 9/10\n",
            "Epoch 1/1000 | Loss: 1.9466\n",
            "Epoch 101/1000 | Loss: 0.7449\n",
            "Epoch 201/1000 | Loss: 0.6675\n",
            "Epoch 301/1000 | Loss: 0.6398\n",
            "Epoch 401/1000 | Loss: 0.6408\n",
            "Epoch 501/1000 | Loss: 0.6395\n",
            "Epoch 601/1000 | Loss: 0.5979\n",
            "Epoch 701/1000 | Loss: 0.6340\n",
            "Epoch 801/1000 | Loss: 0.6332\n",
            "Epoch 901/1000 | Loss: 0.6253\n",
            "Accuracy: 0.8704 | F1: 0.8704 | Loss: 0.6343\n",
            "----------------------------------------------------------------------\n",
            "Fold 10/10\n",
            "Epoch 1/1000 | Loss: 1.9459\n",
            "Epoch 101/1000 | Loss: 0.7590\n",
            "Epoch 201/1000 | Loss: 0.6903\n",
            "Epoch 301/1000 | Loss: 0.6655\n",
            "Epoch 401/1000 | Loss: 0.6393\n",
            "Epoch 501/1000 | Loss: 0.6447\n",
            "Epoch 601/1000 | Loss: 0.6578\n",
            "Epoch 701/1000 | Loss: 0.6441\n",
            "Epoch 801/1000 | Loss: 0.6327\n",
            "Epoch 901/1000 | Loss: 0.6430\n",
            "Accuracy: 0.9222 | F1: 0.9222 | Loss: 0.6504\n",
            "----------------------------------------------------------------------\n",
            "Overall results:\n",
            "Average accuracy: 0.8863\n",
            "Average F1: 0.8863\n"
          ]
        }
      ],
      "source": [
        "runner = Runner(folds=10, epochs=1000, hidden_channels=16, dropout=0.5,\n",
        "                activation='relu', lr=0.01, weight_decay=5e-4, layer='gat', heads=7)\n",
        "predictions = runner.run()"
      ]
    },
    {
      "cell_type": "code",
      "execution_count": 81,
      "metadata": {
        "colab": {
          "base_uri": "https://localhost:8080/",
          "height": 206
        },
        "id": "d5DF9MmeI3ey",
        "outputId": "5bf3dc5f-879e-41f4-903e-c7ae610e64e3"
      },
      "outputs": [
        {
          "output_type": "execute_result",
          "data": {
            "text/plain": [
              "   Node ID              Prediction\n",
              "0  1106492                  Theory\n",
              "1   100701              Case_Based\n",
              "2   237521         Neural_Networks\n",
              "3  1153703                  Theory\n",
              "4    32872  Reinforcement_Learning"
            ],
            "text/html": [
              "\n",
              "  <div id=\"df-e899bd5c-193c-43fe-a048-07d15750d208\" class=\"colab-df-container\">\n",
              "    <div>\n",
              "<style scoped>\n",
              "    .dataframe tbody tr th:only-of-type {\n",
              "        vertical-align: middle;\n",
              "    }\n",
              "\n",
              "    .dataframe tbody tr th {\n",
              "        vertical-align: top;\n",
              "    }\n",
              "\n",
              "    .dataframe thead th {\n",
              "        text-align: right;\n",
              "    }\n",
              "</style>\n",
              "<table border=\"1\" class=\"dataframe\">\n",
              "  <thead>\n",
              "    <tr style=\"text-align: right;\">\n",
              "      <th></th>\n",
              "      <th>Node ID</th>\n",
              "      <th>Prediction</th>\n",
              "    </tr>\n",
              "  </thead>\n",
              "  <tbody>\n",
              "    <tr>\n",
              "      <th>0</th>\n",
              "      <td>1106492</td>\n",
              "      <td>Theory</td>\n",
              "    </tr>\n",
              "    <tr>\n",
              "      <th>1</th>\n",
              "      <td>100701</td>\n",
              "      <td>Case_Based</td>\n",
              "    </tr>\n",
              "    <tr>\n",
              "      <th>2</th>\n",
              "      <td>237521</td>\n",
              "      <td>Neural_Networks</td>\n",
              "    </tr>\n",
              "    <tr>\n",
              "      <th>3</th>\n",
              "      <td>1153703</td>\n",
              "      <td>Theory</td>\n",
              "    </tr>\n",
              "    <tr>\n",
              "      <th>4</th>\n",
              "      <td>32872</td>\n",
              "      <td>Reinforcement_Learning</td>\n",
              "    </tr>\n",
              "  </tbody>\n",
              "</table>\n",
              "</div>\n",
              "    <div class=\"colab-df-buttons\">\n",
              "\n",
              "  <div class=\"colab-df-container\">\n",
              "    <button class=\"colab-df-convert\" onclick=\"convertToInteractive('df-e899bd5c-193c-43fe-a048-07d15750d208')\"\n",
              "            title=\"Convert this dataframe to an interactive table.\"\n",
              "            style=\"display:none;\">\n",
              "\n",
              "  <svg xmlns=\"http://www.w3.org/2000/svg\" height=\"24px\" viewBox=\"0 -960 960 960\">\n",
              "    <path d=\"M120-120v-720h720v720H120Zm60-500h600v-160H180v160Zm220 220h160v-160H400v160Zm0 220h160v-160H400v160ZM180-400h160v-160H180v160Zm440 0h160v-160H620v160ZM180-180h160v-160H180v160Zm440 0h160v-160H620v160Z\"/>\n",
              "  </svg>\n",
              "    </button>\n",
              "\n",
              "  <style>\n",
              "    .colab-df-container {\n",
              "      display:flex;\n",
              "      gap: 12px;\n",
              "    }\n",
              "\n",
              "    .colab-df-convert {\n",
              "      background-color: #E8F0FE;\n",
              "      border: none;\n",
              "      border-radius: 50%;\n",
              "      cursor: pointer;\n",
              "      display: none;\n",
              "      fill: #1967D2;\n",
              "      height: 32px;\n",
              "      padding: 0 0 0 0;\n",
              "      width: 32px;\n",
              "    }\n",
              "\n",
              "    .colab-df-convert:hover {\n",
              "      background-color: #E2EBFA;\n",
              "      box-shadow: 0px 1px 2px rgba(60, 64, 67, 0.3), 0px 1px 3px 1px rgba(60, 64, 67, 0.15);\n",
              "      fill: #174EA6;\n",
              "    }\n",
              "\n",
              "    .colab-df-buttons div {\n",
              "      margin-bottom: 4px;\n",
              "    }\n",
              "\n",
              "    [theme=dark] .colab-df-convert {\n",
              "      background-color: #3B4455;\n",
              "      fill: #D2E3FC;\n",
              "    }\n",
              "\n",
              "    [theme=dark] .colab-df-convert:hover {\n",
              "      background-color: #434B5C;\n",
              "      box-shadow: 0px 1px 3px 1px rgba(0, 0, 0, 0.15);\n",
              "      filter: drop-shadow(0px 1px 2px rgba(0, 0, 0, 0.3));\n",
              "      fill: #FFFFFF;\n",
              "    }\n",
              "  </style>\n",
              "\n",
              "    <script>\n",
              "      const buttonEl =\n",
              "        document.querySelector('#df-e899bd5c-193c-43fe-a048-07d15750d208 button.colab-df-convert');\n",
              "      buttonEl.style.display =\n",
              "        google.colab.kernel.accessAllowed ? 'block' : 'none';\n",
              "\n",
              "      async function convertToInteractive(key) {\n",
              "        const element = document.querySelector('#df-e899bd5c-193c-43fe-a048-07d15750d208');\n",
              "        const dataTable =\n",
              "          await google.colab.kernel.invokeFunction('convertToInteractive',\n",
              "                                                    [key], {});\n",
              "        if (!dataTable) return;\n",
              "\n",
              "        const docLinkHtml = 'Like what you see? Visit the ' +\n",
              "          '<a target=\"_blank\" href=https://colab.research.google.com/notebooks/data_table.ipynb>data table notebook</a>'\n",
              "          + ' to learn more about interactive tables.';\n",
              "        element.innerHTML = '';\n",
              "        dataTable['output_type'] = 'display_data';\n",
              "        await google.colab.output.renderOutput(dataTable, element);\n",
              "        const docLink = document.createElement('div');\n",
              "        docLink.innerHTML = docLinkHtml;\n",
              "        element.appendChild(docLink);\n",
              "      }\n",
              "    </script>\n",
              "  </div>\n",
              "\n",
              "\n",
              "<div id=\"df-43bd96ba-2389-4aef-a77b-0679e4850f97\">\n",
              "  <button class=\"colab-df-quickchart\" onclick=\"quickchart('df-43bd96ba-2389-4aef-a77b-0679e4850f97')\"\n",
              "            title=\"Suggest charts\"\n",
              "            style=\"display:none;\">\n",
              "\n",
              "<svg xmlns=\"http://www.w3.org/2000/svg\" height=\"24px\"viewBox=\"0 0 24 24\"\n",
              "     width=\"24px\">\n",
              "    <g>\n",
              "        <path d=\"M19 3H5c-1.1 0-2 .9-2 2v14c0 1.1.9 2 2 2h14c1.1 0 2-.9 2-2V5c0-1.1-.9-2-2-2zM9 17H7v-7h2v7zm4 0h-2V7h2v10zm4 0h-2v-4h2v4z\"/>\n",
              "    </g>\n",
              "</svg>\n",
              "  </button>\n",
              "\n",
              "<style>\n",
              "  .colab-df-quickchart {\n",
              "      --bg-color: #E8F0FE;\n",
              "      --fill-color: #1967D2;\n",
              "      --hover-bg-color: #E2EBFA;\n",
              "      --hover-fill-color: #174EA6;\n",
              "      --disabled-fill-color: #AAA;\n",
              "      --disabled-bg-color: #DDD;\n",
              "  }\n",
              "\n",
              "  [theme=dark] .colab-df-quickchart {\n",
              "      --bg-color: #3B4455;\n",
              "      --fill-color: #D2E3FC;\n",
              "      --hover-bg-color: #434B5C;\n",
              "      --hover-fill-color: #FFFFFF;\n",
              "      --disabled-bg-color: #3B4455;\n",
              "      --disabled-fill-color: #666;\n",
              "  }\n",
              "\n",
              "  .colab-df-quickchart {\n",
              "    background-color: var(--bg-color);\n",
              "    border: none;\n",
              "    border-radius: 50%;\n",
              "    cursor: pointer;\n",
              "    display: none;\n",
              "    fill: var(--fill-color);\n",
              "    height: 32px;\n",
              "    padding: 0;\n",
              "    width: 32px;\n",
              "  }\n",
              "\n",
              "  .colab-df-quickchart:hover {\n",
              "    background-color: var(--hover-bg-color);\n",
              "    box-shadow: 0 1px 2px rgba(60, 64, 67, 0.3), 0 1px 3px 1px rgba(60, 64, 67, 0.15);\n",
              "    fill: var(--button-hover-fill-color);\n",
              "  }\n",
              "\n",
              "  .colab-df-quickchart-complete:disabled,\n",
              "  .colab-df-quickchart-complete:disabled:hover {\n",
              "    background-color: var(--disabled-bg-color);\n",
              "    fill: var(--disabled-fill-color);\n",
              "    box-shadow: none;\n",
              "  }\n",
              "\n",
              "  .colab-df-spinner {\n",
              "    border: 2px solid var(--fill-color);\n",
              "    border-color: transparent;\n",
              "    border-bottom-color: var(--fill-color);\n",
              "    animation:\n",
              "      spin 1s steps(1) infinite;\n",
              "  }\n",
              "\n",
              "  @keyframes spin {\n",
              "    0% {\n",
              "      border-color: transparent;\n",
              "      border-bottom-color: var(--fill-color);\n",
              "      border-left-color: var(--fill-color);\n",
              "    }\n",
              "    20% {\n",
              "      border-color: transparent;\n",
              "      border-left-color: var(--fill-color);\n",
              "      border-top-color: var(--fill-color);\n",
              "    }\n",
              "    30% {\n",
              "      border-color: transparent;\n",
              "      border-left-color: var(--fill-color);\n",
              "      border-top-color: var(--fill-color);\n",
              "      border-right-color: var(--fill-color);\n",
              "    }\n",
              "    40% {\n",
              "      border-color: transparent;\n",
              "      border-right-color: var(--fill-color);\n",
              "      border-top-color: var(--fill-color);\n",
              "    }\n",
              "    60% {\n",
              "      border-color: transparent;\n",
              "      border-right-color: var(--fill-color);\n",
              "    }\n",
              "    80% {\n",
              "      border-color: transparent;\n",
              "      border-right-color: var(--fill-color);\n",
              "      border-bottom-color: var(--fill-color);\n",
              "    }\n",
              "    90% {\n",
              "      border-color: transparent;\n",
              "      border-bottom-color: var(--fill-color);\n",
              "    }\n",
              "  }\n",
              "</style>\n",
              "\n",
              "  <script>\n",
              "    async function quickchart(key) {\n",
              "      const quickchartButtonEl =\n",
              "        document.querySelector('#' + key + ' button');\n",
              "      quickchartButtonEl.disabled = true;  // To prevent multiple clicks.\n",
              "      quickchartButtonEl.classList.add('colab-df-spinner');\n",
              "      try {\n",
              "        const charts = await google.colab.kernel.invokeFunction(\n",
              "            'suggestCharts', [key], {});\n",
              "      } catch (error) {\n",
              "        console.error('Error during call to suggestCharts:', error);\n",
              "      }\n",
              "      quickchartButtonEl.classList.remove('colab-df-spinner');\n",
              "      quickchartButtonEl.classList.add('colab-df-quickchart-complete');\n",
              "    }\n",
              "    (() => {\n",
              "      let quickchartButtonEl =\n",
              "        document.querySelector('#df-43bd96ba-2389-4aef-a77b-0679e4850f97 button');\n",
              "      quickchartButtonEl.style.display =\n",
              "        google.colab.kernel.accessAllowed ? 'block' : 'none';\n",
              "    })();\n",
              "  </script>\n",
              "</div>\n",
              "    </div>\n",
              "  </div>\n"
            ],
            "application/vnd.google.colaboratory.intrinsic+json": {
              "type": "dataframe",
              "variable_name": "results_gat",
              "summary": "{\n  \"name\": \"results_gat\",\n  \"rows\": 2708,\n  \"fields\": [\n    {\n      \"column\": \"Node ID\",\n      \"properties\": {\n        \"dtype\": \"number\",\n        \"std\": 459622,\n        \"min\": 35,\n        \"max\": 1155073,\n        \"num_unique_values\": 2708,\n        \"samples\": [\n          1130847,\n          1126044,\n          229635\n        ],\n        \"semantic_type\": \"\",\n        \"description\": \"\"\n      }\n    },\n    {\n      \"column\": \"Prediction\",\n      \"properties\": {\n        \"dtype\": \"category\",\n        \"num_unique_values\": 7,\n        \"samples\": [\n          \"Theory\",\n          \"Case_Based\",\n          \"Genetic_Algorithms\"\n        ],\n        \"semantic_type\": \"\",\n        \"description\": \"\"\n      }\n    }\n  ]\n}"
            }
          },
          "metadata": {},
          "execution_count": 81
        }
      ],
      "source": [
        "results_gat = final_predictions(predictions)\n",
        "results_gat.head()"
      ]
    },
    {
      "cell_type": "code",
      "source": [
        "merged = pd.merge(df, results_gat, on='Node ID')\n",
        "acc = accuracy_score(merged['Label'], merged['Prediction'])\n",
        "print(f\"Accuracy: {acc:.4f}\")"
      ],
      "metadata": {
        "colab": {
          "base_uri": "https://localhost:8080/"
        },
        "id": "ymmKPnXaNcxb",
        "outputId": "eb80a996-08c6-46c6-bea9-e27f34149330"
      },
      "execution_count": 82,
      "outputs": [
        {
          "output_type": "stream",
          "name": "stdout",
          "text": [
            "Accuracy: 0.8874\n"
          ]
        }
      ]
    },
    {
      "cell_type": "code",
      "execution_count": 83,
      "metadata": {
        "id": "GFsb14iqI3ey"
      },
      "outputs": [],
      "source": [
        "# Save the results to a TSV file\n",
        "results_gat.to_csv('results_gat.tsv', sep='\\t', index=False)"
      ]
    },
    {
      "cell_type": "markdown",
      "metadata": {
        "id": "59GFeNjzI3ey"
      },
      "source": [
        "### Experiment: GATv2\n",
        "\n",
        "We will run the training process for the GATv2 model and evaluate its performance."
      ]
    },
    {
      "cell_type": "code",
      "execution_count": 84,
      "metadata": {
        "colab": {
          "base_uri": "https://localhost:8080/"
        },
        "id": "QROW0ScfI3ez",
        "outputId": "3b60d0aa-c863-4ee3-e7b2-209cb2b3db21"
      },
      "outputs": [
        {
          "output_type": "stream",
          "name": "stdout",
          "text": [
            "Fold 1/10\n",
            "Epoch 1/1000 | Loss: 1.9583\n",
            "Epoch 101/1000 | Loss: 0.7680\n",
            "Epoch 201/1000 | Loss: 0.6751\n",
            "Epoch 301/1000 | Loss: 0.6342\n",
            "Epoch 401/1000 | Loss: 0.6576\n",
            "Epoch 501/1000 | Loss: 0.6357\n",
            "Epoch 601/1000 | Loss: 0.6304\n",
            "Epoch 701/1000 | Loss: 0.6273\n",
            "Epoch 801/1000 | Loss: 0.6492\n",
            "Epoch 901/1000 | Loss: 0.6317\n",
            "Accuracy: 0.8930 | F1: 0.8930 | Loss: 0.6478\n",
            "----------------------------------------------------------------------\n",
            "Fold 2/10\n",
            "Epoch 1/1000 | Loss: 1.9674\n",
            "Epoch 101/1000 | Loss: 0.7950\n",
            "Epoch 201/1000 | Loss: 0.7041\n",
            "Epoch 301/1000 | Loss: 0.6465\n",
            "Epoch 401/1000 | Loss: 0.6322\n",
            "Epoch 501/1000 | Loss: 0.6523\n",
            "Epoch 601/1000 | Loss: 0.6531\n",
            "Epoch 701/1000 | Loss: 0.6461\n",
            "Epoch 801/1000 | Loss: 0.6331\n",
            "Epoch 901/1000 | Loss: 0.6592\n",
            "Accuracy: 0.8561 | F1: 0.8561 | Loss: 0.6402\n",
            "----------------------------------------------------------------------\n",
            "Fold 3/10\n",
            "Epoch 1/1000 | Loss: 1.9502\n",
            "Epoch 101/1000 | Loss: 0.7357\n",
            "Epoch 201/1000 | Loss: 0.6682\n",
            "Epoch 301/1000 | Loss: 0.6283\n",
            "Epoch 401/1000 | Loss: 0.6086\n",
            "Epoch 501/1000 | Loss: 0.6368\n",
            "Epoch 601/1000 | Loss: 0.6262\n",
            "Epoch 701/1000 | Loss: 0.6185\n",
            "Epoch 801/1000 | Loss: 0.6203\n",
            "Epoch 901/1000 | Loss: 0.6277\n",
            "Accuracy: 0.9004 | F1: 0.9004 | Loss: 0.6233\n",
            "----------------------------------------------------------------------\n",
            "Fold 4/10\n",
            "Epoch 1/1000 | Loss: 1.9378\n",
            "Epoch 101/1000 | Loss: 0.7582\n",
            "Epoch 201/1000 | Loss: 0.6605\n",
            "Epoch 301/1000 | Loss: 0.6497\n",
            "Epoch 401/1000 | Loss: 0.6281\n",
            "Epoch 501/1000 | Loss: 0.6602\n",
            "Epoch 601/1000 | Loss: 0.6388\n",
            "Epoch 701/1000 | Loss: 0.6431\n",
            "Epoch 801/1000 | Loss: 0.6399\n",
            "Epoch 901/1000 | Loss: 0.6309\n",
            "Accuracy: 0.8856 | F1: 0.8856 | Loss: 0.6443\n",
            "----------------------------------------------------------------------\n",
            "Fold 5/10\n",
            "Epoch 1/1000 | Loss: 1.9496\n",
            "Epoch 101/1000 | Loss: 0.7998\n",
            "Epoch 201/1000 | Loss: 0.6614\n",
            "Epoch 301/1000 | Loss: 0.6436\n",
            "Epoch 401/1000 | Loss: 0.6267\n",
            "Epoch 501/1000 | Loss: 0.6384\n",
            "Epoch 601/1000 | Loss: 0.6216\n",
            "Epoch 701/1000 | Loss: 0.6228\n",
            "Epoch 801/1000 | Loss: 0.6382\n",
            "Epoch 901/1000 | Loss: 0.6276\n",
            "Accuracy: 0.8819 | F1: 0.8819 | Loss: 0.6307\n",
            "----------------------------------------------------------------------\n",
            "Fold 6/10\n",
            "Epoch 1/1000 | Loss: 1.9271\n",
            "Epoch 101/1000 | Loss: 0.7649\n",
            "Epoch 201/1000 | Loss: 0.6641\n",
            "Epoch 301/1000 | Loss: 0.6368\n",
            "Epoch 401/1000 | Loss: 0.6354\n",
            "Epoch 501/1000 | Loss: 0.6343\n",
            "Epoch 601/1000 | Loss: 0.6244\n",
            "Epoch 701/1000 | Loss: 0.6386\n",
            "Epoch 801/1000 | Loss: 0.6188\n",
            "Epoch 901/1000 | Loss: 0.6287\n",
            "Accuracy: 0.8782 | F1: 0.8782 | Loss: 0.6329\n",
            "----------------------------------------------------------------------\n",
            "Fold 7/10\n",
            "Epoch 1/1000 | Loss: 1.9711\n",
            "Epoch 101/1000 | Loss: 0.7870\n",
            "Epoch 201/1000 | Loss: 0.6912\n",
            "Epoch 301/1000 | Loss: 0.6526\n",
            "Epoch 401/1000 | Loss: 0.6409\n",
            "Epoch 501/1000 | Loss: 0.6488\n",
            "Epoch 601/1000 | Loss: 0.6566\n",
            "Epoch 701/1000 | Loss: 0.6333\n",
            "Epoch 801/1000 | Loss: 0.6316\n",
            "Epoch 901/1000 | Loss: 0.6340\n",
            "Accuracy: 0.8930 | F1: 0.8930 | Loss: 0.6345\n",
            "----------------------------------------------------------------------\n",
            "Fold 8/10\n",
            "Epoch 1/1000 | Loss: 1.9552\n",
            "Epoch 101/1000 | Loss: 0.7627\n",
            "Epoch 201/1000 | Loss: 0.6636\n",
            "Epoch 301/1000 | Loss: 0.6279\n",
            "Epoch 401/1000 | Loss: 0.6459\n",
            "Epoch 501/1000 | Loss: 0.6444\n",
            "Epoch 601/1000 | Loss: 0.6181\n",
            "Epoch 701/1000 | Loss: 0.6473\n",
            "Epoch 801/1000 | Loss: 0.6363\n",
            "Epoch 901/1000 | Loss: 0.6416\n",
            "Accuracy: 0.9004 | F1: 0.9004 | Loss: 0.6105\n",
            "----------------------------------------------------------------------\n",
            "Fold 9/10\n",
            "Epoch 1/1000 | Loss: 1.9408\n",
            "Epoch 101/1000 | Loss: 0.7486\n",
            "Epoch 201/1000 | Loss: 0.6618\n",
            "Epoch 301/1000 | Loss: 0.6306\n",
            "Epoch 401/1000 | Loss: 0.6199\n",
            "Epoch 501/1000 | Loss: 0.6231\n",
            "Epoch 601/1000 | Loss: 0.6160\n",
            "Epoch 701/1000 | Loss: 0.6200\n",
            "Epoch 801/1000 | Loss: 0.6332\n",
            "Epoch 901/1000 | Loss: 0.6449\n",
            "Accuracy: 0.8815 | F1: 0.8815 | Loss: 0.6304\n",
            "----------------------------------------------------------------------\n",
            "Fold 10/10\n",
            "Epoch 1/1000 | Loss: 1.9364\n",
            "Epoch 101/1000 | Loss: 0.7521\n",
            "Epoch 201/1000 | Loss: 0.6881\n",
            "Epoch 301/1000 | Loss: 0.6454\n",
            "Epoch 401/1000 | Loss: 0.6674\n",
            "Epoch 501/1000 | Loss: 0.6498\n",
            "Epoch 601/1000 | Loss: 0.6427\n",
            "Epoch 701/1000 | Loss: 0.6347\n",
            "Epoch 801/1000 | Loss: 0.6237\n",
            "Epoch 901/1000 | Loss: 0.6429\n",
            "Accuracy: 0.9185 | F1: 0.9185 | Loss: 0.6531\n",
            "----------------------------------------------------------------------\n",
            "Overall results:\n",
            "Average accuracy: 0.8889\n",
            "Average F1: 0.8889\n"
          ]
        }
      ],
      "source": [
        "runner = Runner(folds=10, epochs=1000, hidden_channels=16, dropout=0.5,\n",
        "                activation='relu', lr=0.01, weight_decay=5e-4, layer='gatv2', heads=7)\n",
        "predictions = runner.run()"
      ]
    },
    {
      "cell_type": "code",
      "execution_count": 85,
      "metadata": {
        "colab": {
          "base_uri": "https://localhost:8080/",
          "height": 206
        },
        "id": "teaZpHeBI3ez",
        "outputId": "4b6cec0d-c11c-4cee-f63b-4b1306793c7f"
      },
      "outputs": [
        {
          "output_type": "execute_result",
          "data": {
            "text/plain": [
              "   Node ID              Prediction\n",
              "0  1106492                  Theory\n",
              "1   100701              Case_Based\n",
              "2   237521         Neural_Networks\n",
              "3  1153703         Neural_Networks\n",
              "4    32872  Reinforcement_Learning"
            ],
            "text/html": [
              "\n",
              "  <div id=\"df-a217c644-2503-4ae4-8b32-75220f211930\" class=\"colab-df-container\">\n",
              "    <div>\n",
              "<style scoped>\n",
              "    .dataframe tbody tr th:only-of-type {\n",
              "        vertical-align: middle;\n",
              "    }\n",
              "\n",
              "    .dataframe tbody tr th {\n",
              "        vertical-align: top;\n",
              "    }\n",
              "\n",
              "    .dataframe thead th {\n",
              "        text-align: right;\n",
              "    }\n",
              "</style>\n",
              "<table border=\"1\" class=\"dataframe\">\n",
              "  <thead>\n",
              "    <tr style=\"text-align: right;\">\n",
              "      <th></th>\n",
              "      <th>Node ID</th>\n",
              "      <th>Prediction</th>\n",
              "    </tr>\n",
              "  </thead>\n",
              "  <tbody>\n",
              "    <tr>\n",
              "      <th>0</th>\n",
              "      <td>1106492</td>\n",
              "      <td>Theory</td>\n",
              "    </tr>\n",
              "    <tr>\n",
              "      <th>1</th>\n",
              "      <td>100701</td>\n",
              "      <td>Case_Based</td>\n",
              "    </tr>\n",
              "    <tr>\n",
              "      <th>2</th>\n",
              "      <td>237521</td>\n",
              "      <td>Neural_Networks</td>\n",
              "    </tr>\n",
              "    <tr>\n",
              "      <th>3</th>\n",
              "      <td>1153703</td>\n",
              "      <td>Neural_Networks</td>\n",
              "    </tr>\n",
              "    <tr>\n",
              "      <th>4</th>\n",
              "      <td>32872</td>\n",
              "      <td>Reinforcement_Learning</td>\n",
              "    </tr>\n",
              "  </tbody>\n",
              "</table>\n",
              "</div>\n",
              "    <div class=\"colab-df-buttons\">\n",
              "\n",
              "  <div class=\"colab-df-container\">\n",
              "    <button class=\"colab-df-convert\" onclick=\"convertToInteractive('df-a217c644-2503-4ae4-8b32-75220f211930')\"\n",
              "            title=\"Convert this dataframe to an interactive table.\"\n",
              "            style=\"display:none;\">\n",
              "\n",
              "  <svg xmlns=\"http://www.w3.org/2000/svg\" height=\"24px\" viewBox=\"0 -960 960 960\">\n",
              "    <path d=\"M120-120v-720h720v720H120Zm60-500h600v-160H180v160Zm220 220h160v-160H400v160Zm0 220h160v-160H400v160ZM180-400h160v-160H180v160Zm440 0h160v-160H620v160ZM180-180h160v-160H180v160Zm440 0h160v-160H620v160Z\"/>\n",
              "  </svg>\n",
              "    </button>\n",
              "\n",
              "  <style>\n",
              "    .colab-df-container {\n",
              "      display:flex;\n",
              "      gap: 12px;\n",
              "    }\n",
              "\n",
              "    .colab-df-convert {\n",
              "      background-color: #E8F0FE;\n",
              "      border: none;\n",
              "      border-radius: 50%;\n",
              "      cursor: pointer;\n",
              "      display: none;\n",
              "      fill: #1967D2;\n",
              "      height: 32px;\n",
              "      padding: 0 0 0 0;\n",
              "      width: 32px;\n",
              "    }\n",
              "\n",
              "    .colab-df-convert:hover {\n",
              "      background-color: #E2EBFA;\n",
              "      box-shadow: 0px 1px 2px rgba(60, 64, 67, 0.3), 0px 1px 3px 1px rgba(60, 64, 67, 0.15);\n",
              "      fill: #174EA6;\n",
              "    }\n",
              "\n",
              "    .colab-df-buttons div {\n",
              "      margin-bottom: 4px;\n",
              "    }\n",
              "\n",
              "    [theme=dark] .colab-df-convert {\n",
              "      background-color: #3B4455;\n",
              "      fill: #D2E3FC;\n",
              "    }\n",
              "\n",
              "    [theme=dark] .colab-df-convert:hover {\n",
              "      background-color: #434B5C;\n",
              "      box-shadow: 0px 1px 3px 1px rgba(0, 0, 0, 0.15);\n",
              "      filter: drop-shadow(0px 1px 2px rgba(0, 0, 0, 0.3));\n",
              "      fill: #FFFFFF;\n",
              "    }\n",
              "  </style>\n",
              "\n",
              "    <script>\n",
              "      const buttonEl =\n",
              "        document.querySelector('#df-a217c644-2503-4ae4-8b32-75220f211930 button.colab-df-convert');\n",
              "      buttonEl.style.display =\n",
              "        google.colab.kernel.accessAllowed ? 'block' : 'none';\n",
              "\n",
              "      async function convertToInteractive(key) {\n",
              "        const element = document.querySelector('#df-a217c644-2503-4ae4-8b32-75220f211930');\n",
              "        const dataTable =\n",
              "          await google.colab.kernel.invokeFunction('convertToInteractive',\n",
              "                                                    [key], {});\n",
              "        if (!dataTable) return;\n",
              "\n",
              "        const docLinkHtml = 'Like what you see? Visit the ' +\n",
              "          '<a target=\"_blank\" href=https://colab.research.google.com/notebooks/data_table.ipynb>data table notebook</a>'\n",
              "          + ' to learn more about interactive tables.';\n",
              "        element.innerHTML = '';\n",
              "        dataTable['output_type'] = 'display_data';\n",
              "        await google.colab.output.renderOutput(dataTable, element);\n",
              "        const docLink = document.createElement('div');\n",
              "        docLink.innerHTML = docLinkHtml;\n",
              "        element.appendChild(docLink);\n",
              "      }\n",
              "    </script>\n",
              "  </div>\n",
              "\n",
              "\n",
              "<div id=\"df-73d53e3c-31d5-4941-bb46-2c4633f903cf\">\n",
              "  <button class=\"colab-df-quickchart\" onclick=\"quickchart('df-73d53e3c-31d5-4941-bb46-2c4633f903cf')\"\n",
              "            title=\"Suggest charts\"\n",
              "            style=\"display:none;\">\n",
              "\n",
              "<svg xmlns=\"http://www.w3.org/2000/svg\" height=\"24px\"viewBox=\"0 0 24 24\"\n",
              "     width=\"24px\">\n",
              "    <g>\n",
              "        <path d=\"M19 3H5c-1.1 0-2 .9-2 2v14c0 1.1.9 2 2 2h14c1.1 0 2-.9 2-2V5c0-1.1-.9-2-2-2zM9 17H7v-7h2v7zm4 0h-2V7h2v10zm4 0h-2v-4h2v4z\"/>\n",
              "    </g>\n",
              "</svg>\n",
              "  </button>\n",
              "\n",
              "<style>\n",
              "  .colab-df-quickchart {\n",
              "      --bg-color: #E8F0FE;\n",
              "      --fill-color: #1967D2;\n",
              "      --hover-bg-color: #E2EBFA;\n",
              "      --hover-fill-color: #174EA6;\n",
              "      --disabled-fill-color: #AAA;\n",
              "      --disabled-bg-color: #DDD;\n",
              "  }\n",
              "\n",
              "  [theme=dark] .colab-df-quickchart {\n",
              "      --bg-color: #3B4455;\n",
              "      --fill-color: #D2E3FC;\n",
              "      --hover-bg-color: #434B5C;\n",
              "      --hover-fill-color: #FFFFFF;\n",
              "      --disabled-bg-color: #3B4455;\n",
              "      --disabled-fill-color: #666;\n",
              "  }\n",
              "\n",
              "  .colab-df-quickchart {\n",
              "    background-color: var(--bg-color);\n",
              "    border: none;\n",
              "    border-radius: 50%;\n",
              "    cursor: pointer;\n",
              "    display: none;\n",
              "    fill: var(--fill-color);\n",
              "    height: 32px;\n",
              "    padding: 0;\n",
              "    width: 32px;\n",
              "  }\n",
              "\n",
              "  .colab-df-quickchart:hover {\n",
              "    background-color: var(--hover-bg-color);\n",
              "    box-shadow: 0 1px 2px rgba(60, 64, 67, 0.3), 0 1px 3px 1px rgba(60, 64, 67, 0.15);\n",
              "    fill: var(--button-hover-fill-color);\n",
              "  }\n",
              "\n",
              "  .colab-df-quickchart-complete:disabled,\n",
              "  .colab-df-quickchart-complete:disabled:hover {\n",
              "    background-color: var(--disabled-bg-color);\n",
              "    fill: var(--disabled-fill-color);\n",
              "    box-shadow: none;\n",
              "  }\n",
              "\n",
              "  .colab-df-spinner {\n",
              "    border: 2px solid var(--fill-color);\n",
              "    border-color: transparent;\n",
              "    border-bottom-color: var(--fill-color);\n",
              "    animation:\n",
              "      spin 1s steps(1) infinite;\n",
              "  }\n",
              "\n",
              "  @keyframes spin {\n",
              "    0% {\n",
              "      border-color: transparent;\n",
              "      border-bottom-color: var(--fill-color);\n",
              "      border-left-color: var(--fill-color);\n",
              "    }\n",
              "    20% {\n",
              "      border-color: transparent;\n",
              "      border-left-color: var(--fill-color);\n",
              "      border-top-color: var(--fill-color);\n",
              "    }\n",
              "    30% {\n",
              "      border-color: transparent;\n",
              "      border-left-color: var(--fill-color);\n",
              "      border-top-color: var(--fill-color);\n",
              "      border-right-color: var(--fill-color);\n",
              "    }\n",
              "    40% {\n",
              "      border-color: transparent;\n",
              "      border-right-color: var(--fill-color);\n",
              "      border-top-color: var(--fill-color);\n",
              "    }\n",
              "    60% {\n",
              "      border-color: transparent;\n",
              "      border-right-color: var(--fill-color);\n",
              "    }\n",
              "    80% {\n",
              "      border-color: transparent;\n",
              "      border-right-color: var(--fill-color);\n",
              "      border-bottom-color: var(--fill-color);\n",
              "    }\n",
              "    90% {\n",
              "      border-color: transparent;\n",
              "      border-bottom-color: var(--fill-color);\n",
              "    }\n",
              "  }\n",
              "</style>\n",
              "\n",
              "  <script>\n",
              "    async function quickchart(key) {\n",
              "      const quickchartButtonEl =\n",
              "        document.querySelector('#' + key + ' button');\n",
              "      quickchartButtonEl.disabled = true;  // To prevent multiple clicks.\n",
              "      quickchartButtonEl.classList.add('colab-df-spinner');\n",
              "      try {\n",
              "        const charts = await google.colab.kernel.invokeFunction(\n",
              "            'suggestCharts', [key], {});\n",
              "      } catch (error) {\n",
              "        console.error('Error during call to suggestCharts:', error);\n",
              "      }\n",
              "      quickchartButtonEl.classList.remove('colab-df-spinner');\n",
              "      quickchartButtonEl.classList.add('colab-df-quickchart-complete');\n",
              "    }\n",
              "    (() => {\n",
              "      let quickchartButtonEl =\n",
              "        document.querySelector('#df-73d53e3c-31d5-4941-bb46-2c4633f903cf button');\n",
              "      quickchartButtonEl.style.display =\n",
              "        google.colab.kernel.accessAllowed ? 'block' : 'none';\n",
              "    })();\n",
              "  </script>\n",
              "</div>\n",
              "    </div>\n",
              "  </div>\n"
            ],
            "application/vnd.google.colaboratory.intrinsic+json": {
              "type": "dataframe",
              "variable_name": "results_gatv2",
              "summary": "{\n  \"name\": \"results_gatv2\",\n  \"rows\": 2708,\n  \"fields\": [\n    {\n      \"column\": \"Node ID\",\n      \"properties\": {\n        \"dtype\": \"number\",\n        \"std\": 459622,\n        \"min\": 35,\n        \"max\": 1155073,\n        \"num_unique_values\": 2708,\n        \"samples\": [\n          1130847,\n          1126044,\n          229635\n        ],\n        \"semantic_type\": \"\",\n        \"description\": \"\"\n      }\n    },\n    {\n      \"column\": \"Prediction\",\n      \"properties\": {\n        \"dtype\": \"category\",\n        \"num_unique_values\": 7,\n        \"samples\": [\n          \"Theory\",\n          \"Case_Based\",\n          \"Genetic_Algorithms\"\n        ],\n        \"semantic_type\": \"\",\n        \"description\": \"\"\n      }\n    }\n  ]\n}"
            }
          },
          "metadata": {},
          "execution_count": 85
        }
      ],
      "source": [
        "results_gatv2 = final_predictions(predictions)\n",
        "results_gatv2.head()"
      ]
    },
    {
      "cell_type": "code",
      "source": [
        "merged = pd.merge(df, results_gatv2, on='Node ID')\n",
        "acc = accuracy_score(merged['Label'], merged['Prediction'])\n",
        "print(f\"Accuracy: {acc:.4f}\")"
      ],
      "metadata": {
        "colab": {
          "base_uri": "https://localhost:8080/"
        },
        "id": "-KdzGsqpOGAx",
        "outputId": "ea1ef780-b40a-426d-a3c6-f03eed83fa69"
      },
      "execution_count": 86,
      "outputs": [
        {
          "output_type": "stream",
          "name": "stdout",
          "text": [
            "Accuracy: 0.8888\n"
          ]
        }
      ]
    },
    {
      "cell_type": "code",
      "execution_count": 87,
      "metadata": {
        "id": "FOjaauTPI3ez"
      },
      "outputs": [],
      "source": [
        "# Save the results to a TSV file\n",
        "results_gatv2.to_csv('results_gatv2.tsv', sep='\\t', index=False)"
      ]
    },
    {
      "cell_type": "code",
      "source": [],
      "metadata": {
        "id": "i8ThwbyLOJ5N"
      },
      "execution_count": null,
      "outputs": []
    }
  ],
  "metadata": {
    "accelerator": "GPU",
    "colab": {
      "gpuType": "T4",
      "provenance": [],
      "include_colab_link": true
    },
    "kernelspec": {
      "display_name": "Python 3",
      "name": "python3"
    },
    "language_info": {
      "codemirror_mode": {
        "name": "ipython",
        "version": 3
      },
      "file_extension": ".py",
      "mimetype": "text/x-python",
      "name": "python",
      "nbconvert_exporter": "python",
      "pygments_lexer": "ipython3",
      "version": "3.11.5"
    }
  },
  "nbformat": 4,
  "nbformat_minor": 0
}